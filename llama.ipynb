{
 "cells": [
  {
   "cell_type": "code",
   "execution_count": 1,
   "metadata": {},
   "outputs": [],
   "source": [
    "import os.path\n",
    "from llama_index.core import (\n",
    "    VectorStoreIndex,\n",
    "    SimpleDirectoryReader,\n",
    "    StorageContext,\n",
    "    load_index_from_storage,\n",
    "    PromptTemplate\n",
    ")\n",
    "from llama_index.llms.openai import OpenAI\n",
    "from llama_index.core.llms import ChatMessage, MessageRole\n",
    "from llama_index.core.chat_engine import CondenseQuestionChatEngine\n",
    "from typing import List\n",
    "from pydantic import BaseModel\n",
    "\n",
    "\n"
   ]
  },
  {
   "cell_type": "code",
   "execution_count": 2,
   "metadata": {},
   "outputs": [],
   "source": [
    "documents = SimpleDirectoryReader(\"data\").load_data()\n",
    "index = VectorStoreIndex.from_documents(documents)"
   ]
  },
  {
   "cell_type": "code",
   "execution_count": 3,
   "metadata": {},
   "outputs": [],
   "source": [
    "class Output(BaseModel):\n",
    "    \"\"\"Data model for output. If answer is not in the data then say that and do not provide a supporting paragraph\"\"\"\n",
    "\n",
    "    answer: str\n",
    "    paragraphs_supporting_answer_directly_quoted_from_data: List[str]\n",
    "    #page_numbers_of_each_paragraph: List[int]\n"
   ]
  },
  {
   "cell_type": "code",
   "execution_count": 4,
   "metadata": {},
   "outputs": [],
   "source": [
    "llm = OpenAI(model=\"gpt-4\")\n",
    "query_engine = index.as_query_engine(\n",
    "    response_mode=\"refine\", \n",
    "    llm = llm,\n",
    "    output_cls=Output\n",
    ")\n",
    "\n"
   ]
  },
  {
   "cell_type": "code",
   "execution_count": 6,
   "metadata": {},
   "outputs": [
    {
     "name": "stdout",
     "output_type": "stream",
     "text": [
      "No, there is no evidence to suggest that sleeping less has positive effects. On the contrary, the data indicates that sleep deprivation or restriction can negatively impact performance in various tasks, reaction time, learning, executive function, and subjective well-being. It also highlights that extending sleep duration can improve performance in certain tasks.\n",
      "\n",
      "However, onenight of total sleep deprivation was not found to significantly affect lifting performance in male collegiate weightlifters de-spite worse ratings of sleepiness, fatigue, confusion, mood,and affect (4). It has been suggested that sleep loss may have a smaller effect on performance during shorter, maximal events when the effects of increased perceived exertion or muscleglycogen deficits would be less impactful than during prolonged submaximal or progressive efforts (14,28). The available studies are small and have used different methods to measure strengthand sprint performance, however, suggesting that further re- search is needed to better define this relationship.\n",
      "Sleep deprivation and even minimal amounts of sleep re- striction have been consistently shown to impair accuracy inathletic events, whereas accuracy has been found toimprove after sleep extension. Compared with after a full night’s sleep, dart throwing accuracy was found to decrease significantly after a single night of 4 to 5 h of sleep (10).Similarly, a single night of 5 h of sleep in tennis players was associated with a decrease in serving accuracy of up to 53% compared with after a normal night’s sleep (35). A study of29 adolescent student-athletes found decreased sleep time on weekdays than weekends, with accumulated sleep debt through the week that was associated with worsening re-action times by the end of the week (44).\n",
      "The capacity to learn is essential to athletic development and performance, and sleep is critical for memory consoli-dation. This has important implications for tactical develop- ment in athletic training and may be particularly important among youth and collegiate athletes who must concomitantlyattend to both academic and athletic demands (47). For ex- ample, a study of adolescent male soccer players identified a steeper learning curve for the performance of sport-specifictasks after habitual sleep than after a period of sleep depri- vation (29). Although there are large interindividual differ- ences in the effects of sleep loss on executive function, sleepdeprivation is associated with cognitive lapses and may sig-nificantly undermine tasks that require flexible thinking. One night of sleep deprivation also has been found to have signifi- cant negative effects on inhibi tory control (36), potentially undermining decision-making duri ng athletic competition.\n"
     ]
    }
   ],
   "source": [
    "prompt = \"Are there any positive effects to sleeping less\"\n",
    "otherResponse = query_engine.query(prompt)\n",
    "print(otherResponse.answer)\n",
    "print()\n",
    "for paragraph in otherResponse.paragraphs_supporting_answer_directly_quoted_from_data:\n",
    "    print(paragraph)\n",
    "#for page in otherResponse.page_numbers:\n",
    "#    print(page)"
   ]
  }
 ],
 "metadata": {
  "kernelspec": {
   "display_name": "Python 3",
   "language": "python",
   "name": "python3"
  },
  "language_info": {
   "codemirror_mode": {
    "name": "ipython",
    "version": 3
   },
   "file_extension": ".py",
   "mimetype": "text/x-python",
   "name": "python",
   "nbconvert_exporter": "python",
   "pygments_lexer": "ipython3",
   "version": "3.9.9"
  }
 },
 "nbformat": 4,
 "nbformat_minor": 2
}
