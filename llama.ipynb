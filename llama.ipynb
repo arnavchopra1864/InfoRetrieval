{
 "cells": [
  {
   "cell_type": "code",
   "execution_count": 33,
   "metadata": {},
   "outputs": [],
   "source": [
    "from pathlib import Path\n",
    "from llama_index.core import (\n",
    "    VectorStoreIndex,\n",
    "    SimpleDirectoryReader,\n",
    ")\n",
    "from llama_index.llms.openai import OpenAI\n",
    "import os\n",
    "from typing import List, Optional\n",
    "from llama_index.llms.huggingface import (\n",
    "    HuggingFaceInferenceAPI,\n",
    "    HuggingFaceLLM,\n",
    ")\n",
    "from pydantic import BaseModel\n",
    "from llama_index.core.node_parser import SentenceSplitter\n",
    "from llama_index.core.schema import IndexNode\n",
    "from llama_index.core.embeddings import resolve_embed_model\n",
    "from llama_index.core.response.notebook_utils import display_source_node\n",
    "from llama_index.core.query_engine import RetrieverQueryEngine\n",
    "\n",
    "\n"
   ]
  },
  {
   "cell_type": "code",
   "execution_count": 34,
   "metadata": {},
   "outputs": [],
   "source": [
    "documents = SimpleDirectoryReader(\"data\").load_data()\n",
    "index = VectorStoreIndex.from_documents(documents)"
   ]
  },
  {
   "cell_type": "code",
   "execution_count": 9,
   "metadata": {},
   "outputs": [],
   "source": [
    "class Output(BaseModel):\n",
    "    \"\"\"Data model for output. If answer is not in the data then say that and do not provide a supporting paragraph\"\"\"\n",
    "\n",
    "    answer: str\n",
    "    paragraphs_supporting_answer_directly_quoted_from_data: List[str]\n",
    "    #page_numbers_of_each_paragraph: List[int]\n"
   ]
  },
  {
   "cell_type": "code",
   "execution_count": 31,
   "metadata": {},
   "outputs": [],
   "source": [
    "HF_TOKEN: Optional[str] = os.getenv(\"HUGGING_FACE_TOKEN\")\n",
    "gpt4 = OpenAI(model=\"gpt-4\")\n",
    "query = \"Why is sleep important for athletes\""
   ]
  },
  {
   "cell_type": "code",
   "execution_count": 35,
   "metadata": {},
   "outputs": [
    {
     "data": {
      "text/markdown": [
       "**Node ID:** a951764d-7a6d-453a-8688-e50d3a67ae4e<br>**Similarity:** 0.8899818537593805<br>**Text:** sleep and improve performance. Importantly, athletes have\n",
       "been found to demonstrate poor self-assessment in terms ofsleep need, duration, and quality, potentially making themless likely to seek guidance or medical help when needed (50).\n",
       "In addition, certain cultures appear to idealize the ability to\n",
       "function with minimal sleep, potentially further inhibitingathletes from obtaining adequate sleep or seeking help.\n",
       "Training volume and schedules exert important, potentially\n",
       "negative effects on sleep. In a study of 27 adult athletesassigned to control (normal training), acute fatigue, and\n",
       "functional overreaching groups, those nine athletes in the\n",
       "functional overreaching group exhibited significant re-ductions in sleep time (17). Increases in acute training load\n",
       "also have been shown to be associated with decreased sleep\n",
       "duration and quality in female youth soccer players (54) andAustralian rules football players (31). Sleep duration also hasbeen found to be significantly affected by training schedule, with\n",
       "decreased sleep and increased pretraining fatigue before days\n",
       "with early morning training, (37) as well as nighttime compe-tition (38). On the other hand, despite worse sleep quality, no\n",
       "change in sleep duration was identified with increased train-\n",
       "ing load among elite adult male athletes during a residentialcamp (31). Given the important implications for health and\n",
       "performance, further efforts to define the relationship be-\n",
       "tween training and sleep constitute an important are...<br>"
      ],
      "text/plain": [
       "<IPython.core.display.Markdown object>"
      ]
     },
     "metadata": {},
     "output_type": "display_data"
    },
    {
     "data": {
      "text/markdown": [
       "**Node ID:** 411eb650-b9d2-481b-bdc5-dae7c100737f<br>**Similarity:** 0.8887387199922497<br>**Text:** competition, particularly in athl etic events with large elements\n",
       "of quick decision-making.\n",
       "Sleep, Injury, and Illness\n",
       "Recent evidence suggests that training availability is a\n",
       "primary determinant of athletic success, and injuries andillnesses represent the greatest obstacle to training partici-\n",
       "pation in athletes. Although prior research has focused al-\n",
       "most exclusively on youth athletes, the available evidencesuggests that impaired or decreased sleep is associated with\n",
       "an increased risk of injury. In a study of middle and high\n",
       "school athletes, Milewski et al. (25) found that those in-dividuals who slept less than 8 h per night on average were\n",
       "70% more likely to report an injury than those who slept\n",
       "more than 8 h. In addition, a recent study of 496 adolescentathletes from 16 different individual and team sports foundthat increased training load and decreased self-reported\n",
       "sleep duration were independently associated with an in-\n",
       "creased risk of injury. In fact, the greatest risk for injuryresulted when training load increased and sleep duration\n",
       "decreased simultaneously, as is often seen in competitive\n",
       "travel and training camps (52). The underlying mechanismfor the relationship between sleep loss and injury is unclear,\n",
       "but may be related to resulting impairments in reaction time\n",
       "and cognitive function after sleep deprivation that couldpredispose to acute injury (52). On the other hand, impaired\n",
       "sleep may contribute to higher levels of fatigue that can\n",
       "similarly contribute to...<br>"
      ],
      "text/plain": [
       "<IPython.core.display.Markdown object>"
      ]
     },
     "metadata": {},
     "output_type": "display_data"
    },
    {
     "name": "stdout",
     "output_type": "stream",
     "text": [
      "Sleep is crucial for athletes for several reasons. It can enhance performance and is a key determinant of athletic success. Lack of adequate sleep can lead to poor self-assessment in terms of sleep need, duration, and quality, which can negatively impact an athlete's performance. Training volume and schedules can also affect sleep, with increased training loads and early morning training often leading to decreased sleep duration and quality. \n",
      "\n",
      "Sleep deprivation can also increase the risk of injuries. Studies have shown that athletes who sleep less than 8 hours per night are 70% more likely to report an injury than those who sleep more. Sleep loss can impair reaction time and cognitive function, which could increase the risk of acute injury. \n",
      "\n",
      "Furthermore, sleep deprivation can increase susceptibility to illnesses, particularly upper respiratory infections. It has been shown that individuals who sleep less than 7 hours are nearly three times as likely to develop an infection compared with those who sleep 8 hours or more. \n",
      "\n",
      "In addition to physical health and performance, sleep also impacts mental health. Athletes may experience stress from various sources, and this can be exacerbated by impairments in sleep duration and quality. Therefore, early identification and management of mental health issues in athletes is critical for improved sleep, health, and performance. \n",
      "\n",
      "Finally, athletes may also be at increased risk for certain medical conditions associated with impaired sleep, such as sleep-disordered breathing. Therefore, monitoring and improving sleep in athletes is crucial for their overall health and performance.\n"
     ]
    }
   ],
   "source": [
    "base_retriever = index.as_retriever(similarity_top_k=2)\n",
    "retrievals = base_retriever.retrieve(query)\n",
    "for n in retrievals:\n",
    "    display_source_node(n, source_length=1500)\n",
    "query_engine_base = RetrieverQueryEngine.from_args(base_retriever, llm=gpt4)\n",
    "response = query_engine_base.query(query)\n",
    "print(str(response))\n",
    "\n"
   ]
  },
  {
   "cell_type": "code",
   "execution_count": 20,
   "metadata": {},
   "outputs": [],
   "source": [
    "query_engine = index.as_query_engine(\n",
    "    response_mode=\"refine\", \n",
    "    llm = HF_TOKEN,\n",
    "    output_cls=Output\n",
    ")\n"
   ]
  },
  {
   "cell_type": "code",
   "execution_count": 18,
   "metadata": {},
   "outputs": [
    {
     "name": "stdout",
     "output_type": "stream",
     "text": [
      "Sleep-dependent memory procession involves REM, NREM stage 2, and slow-wave sleep (SWS) according to research findings.\n",
      "\n",
      "to motor learning. REM, NREM stage 2, and slow-wave sleep (SWS) have all been implicated in sleep-dependent memory procession [ 36].\n"
     ]
    }
   ],
   "source": [
    "otherResponse = query_engine.query(query)\n",
    "print(otherResponse.answer)\n",
    "print()\n",
    "for paragraph in otherResponse.paragraphs_supporting_answer_directly_quoted_from_data:\n",
    "    print(paragraph)\n",
    "#for page in otherResponse.page_numbers:\n",
    "#    print(page)"
   ]
  }
 ],
 "metadata": {
  "kernelspec": {
   "display_name": "Python 3",
   "language": "python",
   "name": "python3"
  },
  "language_info": {
   "codemirror_mode": {
    "name": "ipython",
    "version": 3
   },
   "file_extension": ".py",
   "mimetype": "text/x-python",
   "name": "python",
   "nbconvert_exporter": "python",
   "pygments_lexer": "ipython3",
   "version": "3.9.9"
  }
 },
 "nbformat": 4,
 "nbformat_minor": 2
}
