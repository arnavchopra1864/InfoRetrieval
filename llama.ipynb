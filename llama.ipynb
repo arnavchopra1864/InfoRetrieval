{
 "cells": [
  {
   "cell_type": "code",
   "execution_count": 1,
   "metadata": {},
   "outputs": [
    {
     "name": "stderr",
     "output_type": "stream",
     "text": [
      "/opt/homebrew/lib/python3.9/site-packages/tqdm/auto.py:21: TqdmWarning: IProgress not found. Please update jupyter and ipywidgets. See https://ipywidgets.readthedocs.io/en/stable/user_install.html\n",
      "  from .autonotebook import tqdm as notebook_tqdm\n"
     ]
    }
   ],
   "source": [
    "from pathlib import Path\n",
    "from llama_index.core import (\n",
    "    VectorStoreIndex,\n",
    "    SimpleDirectoryReader,\n",
    ")\n",
    "from llama_index.llms.openai import OpenAI\n",
    "import os\n",
    "from typing import List, Optional\n",
    "from llama_index.llms.huggingface import (\n",
    "    HuggingFaceInferenceAPI,\n",
    "    HuggingFaceLLM,\n",
    ")\n",
    "from pydantic import BaseModel\n",
    "from llama_index.core.node_parser import SentenceSplitter\n",
    "from llama_index.core.schema import IndexNode\n",
    "from llama_index.core.embeddings import resolve_embed_model\n",
    "from llama_index.core.response.notebook_utils import display_source_node\n",
    "from llama_index.core.query_engine import RetrieverQueryEngine\n",
    "\n",
    "\n"
   ]
  },
  {
   "cell_type": "code",
   "execution_count": 2,
   "metadata": {},
   "outputs": [],
   "source": [
    "documents = SimpleDirectoryReader(\"data\").load_data()\n",
    "index = VectorStoreIndex.from_documents(documents)\n"
   ]
  },
  {
   "cell_type": "code",
   "execution_count": 3,
   "metadata": {},
   "outputs": [],
   "source": [
    "HF_TOKEN: Optional[str] = os.getenv(\"HUGGING_FACE_TOKEN\")\n",
    "gpt4 = OpenAI(model=\"gpt-4\")\n",
    "query = \"How is social media polarizing\""
   ]
  },
  {
   "cell_type": "code",
   "execution_count": 6,
   "metadata": {},
   "outputs": [
    {
     "data": {
      "text/markdown": [
       "**Node ID:** f507b96b-e94a-40ac-a870-b8c8efdcd399<br>**Similarity:** 0.8126638091070074<br>**Text:** International Journal of Computer Sciences and Engineering                                    Vol.5(10), Oct 2017 , E-ISSN: 2347 -2693  \n",
       "  © 201 7, IJCSE All Rights Reserved                                                                                                                                      352 Advertising – We can  promote our business to the largest \n",
       "audience . The whole world is open for you, and can \n",
       "promote to them. It will help in increase the profits and \n",
       "achieves the targets of Business.  \n",
       " \n",
       "Noble Cause – Social media can also be used for the noble \n",
       "causes.The public is making use of social media for \n",
       "contribut ion for needy people and it can be a quick way to \n",
       "help such people.  \n",
       " \n",
       "Helps in Building Communities – Since our world has \n",
       "different religions and beliefs, so people of different \n",
       "communities can connect to discuss and share related stuffs.  \n",
       " Conventional mark eting mediums such as the radio, TV \n",
       "commercials and print ads are completely obsolete now \n",
       "and demand for thousands of dollars. With the use of \n",
       "social media the businesses can connect with their \n",
       "targeted customers for free, the only cost is energy and \n",
       "time.   \n",
       " The increasing popularity of social sites like Twitter, \n",
       "Facebook and LinkedIn, social networks has gained \n",
       "attention as the most viable communication choice for \n",
       "the bloggers, article writers and content creators.  \n",
       " These long range informal communication destinations \n",
       "have opened the open door for every one of the \n",
       "b...<br>"
      ],
      "text/plain": [
       "<IPython.core.display.Markdown object>"
      ]
     },
     "metadata": {},
     "output_type": "display_data"
    },
    {
     "data": {
      "text/markdown": [
       "**Node ID:** 6c604b4e-abe8-4b5f-8ade-be3f0efbda25<br>**Similarity:** 0.8121739864839521<br>**Text:** © 201 7, IJCSE All Rights Reserved                                                                                                                                      347 International Journal of Computer Sciences and Engineering     Open Access  \n",
       "Review  Paper                                              Volume -5, Issue -10                                          E-ISSN : 2347 -2693  \n",
       "                 \n",
       "A Study on Positive and Negative Effects of Social Media on Society  \n",
       "W.Akram1*, R.Kumar2 \n",
       "1* Department of Computer Applications, GDC Mendhar, Poonch , India  \n",
       "2 Department of Computer Applications, GDC Mendhar, Poonch, India  \n",
       "  \n",
       "*Corresponding Author: wasimmir143@gmail.com  Mobile : +91 -7051388383  \n",
       "Available online at: www.ijcseonline.org  \n",
       "Received: 15/Sep/2017, Revised: 28/Sep/2017, Accepted: 19/Oct/2017, Published: 30/Oct/2017  \n",
       "Abstract - Social media is a platform for public around the World to discuss their issues and opinions. Before knowing the \n",
       "actual aspects of social media people must have to know what does social media mean? Social media is a term used to \n",
       "describe the interaction bet ween groups or individuals in which they produce, share, and sometimes exchange ideas, images, \n",
       "videos and many more over the internet and in virtual communities.  Children are growing up surrounded by mobile devices \n",
       "and interactive social networking sites s uch as Twitter, MySpace, and Facebook, Orkut which has made the social media a \n",
       "vital aspect of their life. Social n...<br>"
      ],
      "text/plain": [
       "<IPython.core.display.Markdown object>"
      ]
     },
     "metadata": {},
     "output_type": "display_data"
    },
    {
     "name": "stdout",
     "output_type": "stream",
     "text": [
      "Social media has both positive and negative effects on society. On the positive side, it can be used for advertising, promoting businesses to a large audience, and increasing profits. It can also be used for noble causes, such as contributing to needy people, and building communities by connecting people of different religions and beliefs. It provides a platform for bloggers, article writers, and content creators to connect with their audience and share their work. It also allows students and professionals to share and exchange information with like-minded individuals.\n",
      "\n",
      "On the negative side, social media can lead to cyber harassment, with many young people becoming victims of cyberbullying. Personal information and security can be hacked and shared on the internet. It can also lead to addiction, wasting time that could have been used for productive tasks. There are also cases of fraud and scams committed through social media. Furthermore, it can easily ruin someone's reputation by spreading false stories. It can also lead to the sharing of too much personal information, posing risks to users.\n"
     ]
    }
   ],
   "source": [
    "base_retriever = index.as_retriever(similarity_top_k=2)\n",
    "retrievals = base_retriever.retrieve(query)\n",
    "for n in retrievals:\n",
    "    display_source_node(n, source_length=1500)\n",
    "query_engine_base = RetrieverQueryEngine.from_args(base_retriever, llm=gpt4)\n",
    "response = query_engine_base.query(query)\n",
    "print(str(response))\n",
    "\n"
   ]
  },
  {
   "cell_type": "code",
   "execution_count": 9,
   "metadata": {},
   "outputs": [],
   "source": [
    "class Output(BaseModel):\n",
    "    \"\"\"Data model for output. If answer is not in the data then say that and do not provide a supporting paragraph\"\"\"\n",
    "\n",
    "    answer: str\n",
    "    paragraphs_supporting_answer_directly_quoted_from_data: List[str]\n",
    "    #page_numbers_of_each_paragraph: List[int]\n"
   ]
  },
  {
   "cell_type": "code",
   "execution_count": 20,
   "metadata": {},
   "outputs": [],
   "source": [
    "query_engine = index.as_query_engine(\n",
    "    response_mode=\"refine\", \n",
    "    llm = HF_TOKEN,\n",
    "    output_cls=Output\n",
    ")\n"
   ]
  },
  {
   "cell_type": "code",
   "execution_count": 18,
   "metadata": {},
   "outputs": [
    {
     "name": "stdout",
     "output_type": "stream",
     "text": [
      "Sleep-dependent memory procession involves REM, NREM stage 2, and slow-wave sleep (SWS) according to research findings.\n",
      "\n",
      "to motor learning. REM, NREM stage 2, and slow-wave sleep (SWS) have all been implicated in sleep-dependent memory procession [ 36].\n"
     ]
    }
   ],
   "source": [
    "otherResponse = query_engine.query(query)\n",
    "print(otherResponse.answer)\n",
    "print()\n",
    "for paragraph in otherResponse.paragraphs_supporting_answer_directly_quoted_from_data:\n",
    "    print(paragraph)\n",
    "#for page in otherResponse.page_numbers:\n",
    "#    print(page)"
   ]
  }
 ],
 "metadata": {
  "kernelspec": {
   "display_name": "Python 3",
   "language": "python",
   "name": "python3"
  },
  "language_info": {
   "codemirror_mode": {
    "name": "ipython",
    "version": 3
   },
   "file_extension": ".py",
   "mimetype": "text/x-python",
   "name": "python",
   "nbconvert_exporter": "python",
   "pygments_lexer": "ipython3",
   "version": "3.9.9"
  }
 },
 "nbformat": 4,
 "nbformat_minor": 2
}
