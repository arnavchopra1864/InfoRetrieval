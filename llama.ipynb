{
 "cells": [
  {
   "cell_type": "code",
   "execution_count": 1,
   "metadata": {},
   "outputs": [
    {
     "name": "stderr",
     "output_type": "stream",
     "text": [
      "/opt/homebrew/lib/python3.9/site-packages/tqdm/auto.py:21: TqdmWarning: IProgress not found. Please update jupyter and ipywidgets. See https://ipywidgets.readthedocs.io/en/stable/user_install.html\n",
      "  from .autonotebook import tqdm as notebook_tqdm\n"
     ]
    }
   ],
   "source": [
    "from pathlib import Path\n",
    "from llama_index.core import (\n",
    "    VectorStoreIndex,\n",
    "    SimpleDirectoryReader,\n",
    ")\n",
    "from llama_index.llms.openai import OpenAI\n",
    "import os\n",
    "from typing import List, Optional\n",
    "from llama_index.llms.huggingface import (\n",
    "    HuggingFaceInferenceAPI,\n",
    "    HuggingFaceLLM,\n",
    ")\n",
    "from pydantic import BaseModel\n",
    "from llama_index.core.node_parser import SentenceSplitter\n",
    "from llama_index.core.schema import IndexNode\n",
    "from llama_index.core.embeddings import resolve_embed_model\n",
    "from llama_index.core.response.notebook_utils import display_source_node\n",
    "from llama_index.core.query_engine import RetrieverQueryEngine\n",
    "\n",
    "\n"
   ]
  },
  {
   "cell_type": "code",
   "execution_count": 2,
   "metadata": {},
   "outputs": [],
   "source": [
    "documents = SimpleDirectoryReader(\"data\").load_data()\n",
    "index = VectorStoreIndex.from_documents(documents)\n"
   ]
  },
  {
   "cell_type": "code",
   "execution_count": 7,
   "metadata": {},
   "outputs": [],
   "source": [
    "HF_TOKEN: Optional[str] = os.getenv(\"HUGGING_FACE_TOKEN\")\n",
    "gpt4 = OpenAI(model=\"gpt-4\")\n",
    "query = \"how does sleep help athletes\""
   ]
  },
  {
   "cell_type": "code",
   "execution_count": 9,
   "metadata": {},
   "outputs": [
    {
     "data": {
      "text/markdown": [
       "**Node ID:** 2f39fe92-e0be-4c43-95bb-02d03b7eb7ef<br>**Similarity:** 0.8725831105623597<br>**Text:** sleep and improve performance. Importantly, athletes have\n",
       "been found to demonstrate poor self-assessment in terms ofsleep need, duration, and quality, potentially making themless likely to seek guidance or medical help when needed (50).\n",
       "In addition, certain cultures appear to idealize the ability to\n",
       "function with minimal sleep, potentially further inhibitingathletes from obtaining adequate sleep or seeking help.\n",
       "Training volume and schedules exert important, potentially\n",
       "negative effects on sleep. In a study of 27 adult athletesassigned to control (normal training), acute fatigue, and\n",
       "functional overreaching groups, those nine athletes in the\n",
       "functional overreaching group exhibited significant re-ductions in sleep time (17). Increases in acute training load\n",
       "also have been shown to be associated with decreased sleep\n",
       "duration and quality in female youth soccer players (54) andAustralian rules football players (31). Sleep duration also hasbeen found to be significantly affected by training schedule, with\n",
       "decreased sleep and increased pretraining fatigue before days\n",
       "with early morning training, (37) as well as nighttime compe-tition (38). On the other hand, despite worse sleep quality, no\n",
       "change in sleep duration was identified with increased train-\n",
       "ing load among elite adult male athletes during a residentialcamp (31). Given the important implications for health and\n",
       "performance, further efforts to define the relationship be-\n",
       "tween training and sleep constitute an important are...<br>"
      ],
      "text/plain": [
       "<IPython.core.display.Markdown object>"
      ]
     },
     "metadata": {},
     "output_type": "display_data"
    },
    {
     "data": {
      "text/markdown": [
       "**Node ID:** 47ccf2b5-afc1-46aa-a8cd-71c305ddfbbc<br>**Similarity:** 0.8704606131269372<br>**Text:** competition, particularly in athl etic events with large elements\n",
       "of quick decision-making.\n",
       "Sleep, Injury, and Illness\n",
       "Recent evidence suggests that training availability is a\n",
       "primary determinant of athletic success, and injuries andillnesses represent the greatest obstacle to training partici-\n",
       "pation in athletes. Although prior research has focused al-\n",
       "most exclusively on youth athletes, the available evidencesuggests that impaired or decreased sleep is associated with\n",
       "an increased risk of injury. In a study of middle and high\n",
       "school athletes, Milewski et al. (25) found that those in-dividuals who slept less than 8 h per night on average were\n",
       "70% more likely to report an injury than those who slept\n",
       "more than 8 h. In addition, a recent study of 496 adolescentathletes from 16 different individual and team sports foundthat increased training load and decreased self-reported\n",
       "sleep duration were independently associated with an in-\n",
       "creased risk of injury. In fact, the greatest risk for injuryresulted when training load increased and sleep duration\n",
       "decreased simultaneously, as is often seen in competitive\n",
       "travel and training camps (52). The underlying mechanismfor the relationship between sleep loss and injury is unclear,\n",
       "but may be related to resulting impairments in reaction time\n",
       "and cognitive function after sleep deprivation that couldpredispose to acute injury (52). On the other hand, impaired\n",
       "sleep may contribute to higher levels of fatigue that can\n",
       "similarly contribute to...<br>"
      ],
      "text/plain": [
       "<IPython.core.display.Markdown object>"
      ]
     },
     "metadata": {},
     "output_type": "display_data"
    },
    {
     "data": {
      "text/markdown": [
       "**Node ID:** 7f7e4558-0b51-4ae8-b518-8727bcafe5f6<br>**Similarity:** 0.866238700618445<br>**Text:** While academic pres-\n",
       "sures are not unique to athletes, they must be managed\n",
       "alongside the additional time constraints of the simultaneoustraining and competition schedules. Unfortunately, this often\n",
       "means that athletes are required to sacrifice sleep time to fully\n",
       "accommodate academic and athletic commitments, such thatyounger athletes may be at an even greater risk of sleep dep-\n",
       "rivation (47). This can not only undermine athletic perfor-\n",
       "mance but also threaten classroom performance potentiallyincreasing an athlete’s stress, anxiety, and perceived pressure,resulting in further sacrifice of sleep duration and quality.\n",
       "Athletes also may be at increased risk for certain medical\n",
       "conditions associated with impaired sleep. Although it isestimated to affect only 4% of the general population,\n",
       "sleep-disordered breathing has been estimated to be present\n",
       "in 14% of professional football players (15). Given thedetrimental effects that sleep-disordered breathing and ob-\n",
       "structive sleep apnea can have on both health and athletic\n",
       "performance, a high index of suspicion should exist, par-ticularly among athletes with increased body mass and large\n",
       "neck circumference. Restless legs syndrome is increasingly\n",
       "recognized as an important cause of poor sleep, perhapsmore so in athletes than previously suspected. Althoughmoderate exercise is recommended for individuals with\n",
       "restless legs syndrome, a single survey of 61 marathon run-\n",
       "ners found that 13% met the criteria for restless legs syn-drome, ...<br>"
      ],
      "text/plain": [
       "<IPython.core.display.Markdown object>"
      ]
     },
     "metadata": {},
     "output_type": "display_data"
    },
    {
     "data": {
      "text/markdown": [
       "**Node ID:** ab232164-15e2-4697-abc3-d808367b6425<br>**Similarity:** 0.863163097651014<br>**Text:** Ergonomics . 1985; 28:591 Y601.\n",
       "47. Taylor L, Chrismas BC, Dascombe B, et al. The importance of monitoring\n",
       "sleep within adolescent athletes: athletic, academic, and health consider-\n",
       "ations. Front. Physiol . 2016; 7:101.\n",
       "48. Taylor L, Chrismas BC, Dascombe B, et al. Sleep medication and athletic\n",
       "performance-the evidence for practitioners and future research directions.Front. Physiol . 2016; 7:83.\n",
       "49. Temesi J, Arnal PJ, Davranche K, et al. Does central fatigue explain reduced\n",
       "cycling after complete sleep deprivation? Med. Sci. Sports Exerc . 2013;\n",
       "45:2243 Y53.\n",
       "50. Van Dongen HP, Maislin G, Mullington JM, Dinges DF. The cumulative cost\n",
       "of additional wakefulness: dose-response effects on neurobehavioral func-\n",
       "tions and sleep physiology from chronic sleep restriction and total sleep\n",
       "deprivation. Sleep . 2003; 26:117 Y26.\n",
       "51. Venter RE. Role of sleep in performance and recovery of athletes: a review\n",
       "article. S. Afr. J. Res. Sport Ph . 2012; 34:167 Y84.\n",
       "52. von Rosen P, Frohm A, Kottorp A, et al. Multiple factors explain injury risk\n",
       "in adolescent elite athletes: applying a biopsychosocial perspective. Scand. J.\n",
       "Med. Sci. Sports . 2017.\n",
       "53. Waterhouse J, Reilly T, Edwards B. The stress of travel. J. Sports Sci . 2004;\n",
       "22:946 Y65; discussion 65 Y6.\n",
       "54. Watson A, Brickson S, Brooks A, Dunn W. Subjective well-being and training\n",
       "load predict in-season injury and illness risk in female youth soccer players.\n",
       "Br. J. Sports Med . 2016.\n",
       "418 Volume 16 &Number 6 &November/December 2017 Slee...<br>"
      ],
      "text/plain": [
       "<IPython.core.display.Markdown object>"
      ]
     },
     "metadata": {},
     "output_type": "display_data"
    },
    {
     "data": {
      "text/markdown": [
       "**Node ID:** 8ee1ecd1-3817-46cf-a0ad-3c673b01fa83<br>**Similarity:** 0.8610143068688171<br>**Text:** Sleep and Athletic Performance\n",
       "Andrew M. Watson , MD, MS\n",
       "Abstract\n",
       "Sleep is an essential component of health and well-being, with signifi-\n",
       "cant impacts on physical development, emotional regulation, cognitive\n",
       "performance, and quality of life. Along with being an integral part of therecovery and adaptive process between bouts of exercise, accumulating\n",
       "evidence suggests that increased sleep duration and improved sleep\n",
       "quality in athletes are associated with improved performance and com-petitive success. In addition, better sleep may reduce the risk of both\n",
       "injury and illness in athletes, not only optimizing health but also potentially\n",
       "enhancing performance through increased participation in training. Despitethis, most studies have found that athletes fail to obtain the recommended\n",
       "amount of sleep, threatening both performance and health. Athletes face a\n",
       "number of obstacles that can reduce the likelihood of obtaining propersleep, such as training and competition schedules, travel, stress, academicdemands, and overtraining. In addition, athletes have been found to dem-\n",
       "onstrate poor self-assessment of their sleep duration and quality. In light of\n",
       "this, athletes may require more careful monitoring and intervention toidentify individuals at risk and promote proper sleep to improve both per-\n",
       "formance and overall health. This review attempts to highlight the recent\n",
       "literature regarding sleep issues in athletes, the effects of sleep on athleticperformance, and interventions to enhan...<br>"
      ],
      "text/plain": [
       "<IPython.core.display.Markdown object>"
      ]
     },
     "metadata": {},
     "output_type": "display_data"
    },
    {
     "name": "stdout",
     "output_type": "stream",
     "text": [
      "Sleep is an essential component of health and well-being for athletes. It is an integral part of the recovery and adaptive process between bouts of exercise. Increased sleep duration and improved sleep quality in athletes are associated with improved performance and competitive success. Better sleep may also reduce the risk of both injury and illness in athletes, not only optimizing health but also potentially enhancing performance through increased participation in training.\n"
     ]
    }
   ],
   "source": [
    "base_retriever = index.as_retriever(similarity_top_k=5)\n",
    "retrievals = base_retriever.retrieve(query)\n",
    "for n in retrievals:\n",
    "    display_source_node(n, source_length=1500)\n",
    "query_engine_base = RetrieverQueryEngine.from_args(base_retriever, llm=gpt4)\n",
    "response = query_engine_base.query(query)\n",
    "print(str(response))\n",
    "\n"
   ]
  },
  {
   "cell_type": "code",
   "execution_count": 9,
   "metadata": {},
   "outputs": [],
   "source": [
    "class Output(BaseModel):\n",
    "    \"\"\"Data model for output. If answer is not in the data then say that and do not provide a supporting paragraph\"\"\"\n",
    "\n",
    "    answer: str\n",
    "    paragraphs_supporting_answer_directly_quoted_from_data: List[str]\n",
    "    #page_numbers_of_each_paragraph: List[int]\n"
   ]
  },
  {
   "cell_type": "code",
   "execution_count": 20,
   "metadata": {},
   "outputs": [],
   "source": [
    "query_engine = index.as_query_engine(\n",
    "    response_mode=\"refine\", \n",
    "    llm = HF_TOKEN,\n",
    "    output_cls=Output\n",
    ")\n"
   ]
  },
  {
   "cell_type": "code",
   "execution_count": 18,
   "metadata": {},
   "outputs": [
    {
     "name": "stdout",
     "output_type": "stream",
     "text": [
      "Sleep-dependent memory procession involves REM, NREM stage 2, and slow-wave sleep (SWS) according to research findings.\n",
      "\n",
      "to motor learning. REM, NREM stage 2, and slow-wave sleep (SWS) have all been implicated in sleep-dependent memory procession [ 36].\n"
     ]
    }
   ],
   "source": [
    "otherResponse = query_engine.query(query)\n",
    "print(otherResponse.answer)\n",
    "print()\n",
    "for paragraph in otherResponse.paragraphs_supporting_answer_directly_quoted_from_data:\n",
    "    print(paragraph)\n",
    "#for page in otherResponse.page_numbers:\n",
    "#    print(page)"
   ]
  }
 ],
 "metadata": {
  "kernelspec": {
   "display_name": "Python 3",
   "language": "python",
   "name": "python3"
  },
  "language_info": {
   "codemirror_mode": {
    "name": "ipython",
    "version": 3
   },
   "file_extension": ".py",
   "mimetype": "text/x-python",
   "name": "python",
   "nbconvert_exporter": "python",
   "pygments_lexer": "ipython3",
   "version": "3.9.9"
  }
 },
 "nbformat": 4,
 "nbformat_minor": 2
}
