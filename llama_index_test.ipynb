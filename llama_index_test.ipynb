{
 "cells": [
  {
   "cell_type": "code",
   "execution_count": 2,
   "metadata": {},
   "outputs": [
    {
     "name": "stdout",
     "output_type": "stream",
     "text": [
      "Requirement already satisfied: llama-index in c:\\users\\arnav\\anaconda3\\lib\\site-packages (0.10.12)Note: you may need to restart the kernel to use updated packages.\n",
      "\n",
      "Requirement already satisfied: llama-index-agent-openai<0.2.0,>=0.1.4 in c:\\users\\arnav\\anaconda3\\lib\\site-packages (from llama-index) (0.1.5)\n",
      "Requirement already satisfied: llama-index-cli<0.2.0,>=0.1.2 in c:\\users\\arnav\\anaconda3\\lib\\site-packages (from llama-index) (0.1.5)\n",
      "Requirement already satisfied: llama-index-core<0.11.0,>=0.10.12 in c:\\users\\arnav\\anaconda3\\lib\\site-packages (from llama-index) (0.10.12)\n",
      "Requirement already satisfied: llama-index-embeddings-openai<0.2.0,>=0.1.5 in c:\\users\\arnav\\anaconda3\\lib\\site-packages (from llama-index) (0.1.6)\n",
      "Requirement already satisfied: llama-index-indices-managed-llama-cloud<0.2.0,>=0.1.2 in c:\\users\\arnav\\anaconda3\\lib\\site-packages (from llama-index) (0.1.3)\n",
      "Requirement already satisfied: llama-index-legacy<0.10.0,>=0.9.48 in c:\\users\\arnav\\anaconda3\\lib\\site-packages (from llama-index) (0.9.48)\n",
      "Requirement already satisfied: llama-index-llms-openai<0.2.0,>=0.1.5 in c:\\users\\arnav\\anaconda3\\lib\\site-packages (from llama-index) (0.1.6)\n",
      "Requirement already satisfied: llama-index-multi-modal-llms-openai<0.2.0,>=0.1.3 in c:\\users\\arnav\\anaconda3\\lib\\site-packages (from llama-index) (0.1.4)\n",
      "Requirement already satisfied: llama-index-program-openai<0.2.0,>=0.1.3 in c:\\users\\arnav\\anaconda3\\lib\\site-packages (from llama-index) (0.1.4)\n",
      "Requirement already satisfied: llama-index-question-gen-openai<0.2.0,>=0.1.2 in c:\\users\\arnav\\anaconda3\\lib\\site-packages (from llama-index) (0.1.3)\n",
      "Requirement already satisfied: llama-index-readers-file<0.2.0,>=0.1.4 in c:\\users\\arnav\\anaconda3\\lib\\site-packages (from llama-index) (0.1.5)\n",
      "Requirement already satisfied: llama-index-readers-llama-parse<0.2.0,>=0.1.2 in c:\\users\\arnav\\anaconda3\\lib\\site-packages (from llama-index) (0.1.3)\n",
      "Requirement already satisfied: llama-index-vector-stores-chroma<0.2.0,>=0.1.1 in c:\\users\\arnav\\anaconda3\\lib\\site-packages (from llama-index-cli<0.2.0,>=0.1.2->llama-index) (0.1.4)\n",
      "Requirement already satisfied: PyYAML>=6.0.1 in c:\\users\\arnav\\anaconda3\\lib\\site-packages (from llama-index-core<0.11.0,>=0.10.12->llama-index) (6.0.1)\n",
      "Requirement already satisfied: SQLAlchemy[asyncio]>=1.4.49 in c:\\users\\arnav\\anaconda3\\lib\\site-packages (from llama-index-core<0.11.0,>=0.10.12->llama-index) (2.0.27)\n",
      "Requirement already satisfied: aiohttp<4.0.0,>=3.8.6 in c:\\users\\arnav\\anaconda3\\lib\\site-packages (from llama-index-core<0.11.0,>=0.10.12->llama-index) (3.9.3)\n",
      "Requirement already satisfied: dataclasses-json in c:\\users\\arnav\\anaconda3\\lib\\site-packages (from llama-index-core<0.11.0,>=0.10.12->llama-index) (0.6.4)\n",
      "Requirement already satisfied: deprecated>=1.2.9.3 in c:\\users\\arnav\\anaconda3\\lib\\site-packages (from llama-index-core<0.11.0,>=0.10.12->llama-index) (1.2.14)\n",
      "Requirement already satisfied: dirtyjson<2.0.0,>=1.0.8 in c:\\users\\arnav\\anaconda3\\lib\\site-packages (from llama-index-core<0.11.0,>=0.10.12->llama-index) (1.0.8)\n",
      "Requirement already satisfied: fsspec>=2023.5.0 in c:\\users\\arnav\\anaconda3\\lib\\site-packages (from llama-index-core<0.11.0,>=0.10.12->llama-index) (2024.2.0)\n",
      "Requirement already satisfied: httpx in c:\\users\\arnav\\anaconda3\\lib\\site-packages (from llama-index-core<0.11.0,>=0.10.12->llama-index) (0.27.0)\n",
      "Requirement already satisfied: llamaindex-py-client<0.2.0,>=0.1.13 in c:\\users\\arnav\\anaconda3\\lib\\site-packages (from llama-index-core<0.11.0,>=0.10.12->llama-index) (0.1.13)\n",
      "Requirement already satisfied: nest-asyncio<2.0.0,>=1.5.8 in c:\\users\\arnav\\anaconda3\\lib\\site-packages (from llama-index-core<0.11.0,>=0.10.12->llama-index) (1.6.0)\n",
      "Requirement already satisfied: networkx>=3.0 in c:\\users\\arnav\\anaconda3\\lib\\site-packages (from llama-index-core<0.11.0,>=0.10.12->llama-index) (3.1)\n",
      "Requirement already satisfied: nltk<4.0.0,>=3.8.1 in c:\\users\\arnav\\anaconda3\\lib\\site-packages (from llama-index-core<0.11.0,>=0.10.12->llama-index) (3.8.1)\n",
      "Requirement already satisfied: numpy in c:\\users\\arnav\\anaconda3\\lib\\site-packages (from llama-index-core<0.11.0,>=0.10.12->llama-index) (1.24.3)\n",
      "Requirement already satisfied: openai>=1.1.0 in c:\\users\\arnav\\anaconda3\\lib\\site-packages (from llama-index-core<0.11.0,>=0.10.12->llama-index) (1.12.0)\n",
      "Requirement already satisfied: pandas in c:\\users\\arnav\\anaconda3\\lib\\site-packages (from llama-index-core<0.11.0,>=0.10.12->llama-index) (2.0.3)\n",
      "Requirement already satisfied: pillow>=9.0.0 in c:\\users\\arnav\\anaconda3\\lib\\site-packages (from llama-index-core<0.11.0,>=0.10.12->llama-index) (10.0.1)\n",
      "Requirement already satisfied: requests>=2.31.0 in c:\\users\\arnav\\anaconda3\\lib\\site-packages (from llama-index-core<0.11.0,>=0.10.12->llama-index) (2.31.0)\n",
      "Requirement already satisfied: tenacity<9.0.0,>=8.2.0 in c:\\users\\arnav\\anaconda3\\lib\\site-packages (from llama-index-core<0.11.0,>=0.10.12->llama-index) (8.2.3)\n",
      "Requirement already satisfied: tiktoken>=0.3.3 in c:\\users\\arnav\\anaconda3\\lib\\site-packages (from llama-index-core<0.11.0,>=0.10.12->llama-index) (0.6.0)\n",
      "Requirement already satisfied: tqdm<5.0.0,>=4.66.1 in c:\\users\\arnav\\anaconda3\\lib\\site-packages (from llama-index-core<0.11.0,>=0.10.12->llama-index) (4.66.2)\n",
      "Requirement already satisfied: typing-extensions>=4.5.0 in c:\\users\\arnav\\anaconda3\\lib\\site-packages (from llama-index-core<0.11.0,>=0.10.12->llama-index) (4.9.0)\n",
      "Requirement already satisfied: typing-inspect>=0.8.0 in c:\\users\\arnav\\anaconda3\\lib\\site-packages (from llama-index-core<0.11.0,>=0.10.12->llama-index) (0.9.0)\n",
      "Requirement already satisfied: beautifulsoup4<5.0.0,>=4.12.3 in c:\\users\\arnav\\anaconda3\\lib\\site-packages (from llama-index-readers-file<0.2.0,>=0.1.4->llama-index) (4.12.3)\n",
      "Requirement already satisfied: bs4<0.0.3,>=0.0.2 in c:\\users\\arnav\\anaconda3\\lib\\site-packages (from llama-index-readers-file<0.2.0,>=0.1.4->llama-index) (0.0.2)\n",
      "Requirement already satisfied: pymupdf<2.0.0,>=1.23.21 in c:\\users\\arnav\\anaconda3\\lib\\site-packages (from llama-index-readers-file<0.2.0,>=0.1.4->llama-index) (1.23.25)\n",
      "Requirement already satisfied: pypdf<5.0.0,>=4.0.1 in c:\\users\\arnav\\anaconda3\\lib\\site-packages (from llama-index-readers-file<0.2.0,>=0.1.4->llama-index) (4.1.0)\n",
      "Requirement already satisfied: llama-parse<0.4.0,>=0.3.3 in c:\\users\\arnav\\anaconda3\\lib\\site-packages (from llama-index-readers-llama-parse<0.2.0,>=0.1.2->llama-index) (0.3.4)\n",
      "Requirement already satisfied: aiosignal>=1.1.2 in c:\\users\\arnav\\anaconda3\\lib\\site-packages (from aiohttp<4.0.0,>=3.8.6->llama-index-core<0.11.0,>=0.10.12->llama-index) (1.2.0)\n",
      "Requirement already satisfied: attrs>=17.3.0 in c:\\users\\arnav\\anaconda3\\lib\\site-packages (from aiohttp<4.0.0,>=3.8.6->llama-index-core<0.11.0,>=0.10.12->llama-index) (22.1.0)\n",
      "Requirement already satisfied: frozenlist>=1.1.1 in c:\\users\\arnav\\anaconda3\\lib\\site-packages (from aiohttp<4.0.0,>=3.8.6->llama-index-core<0.11.0,>=0.10.12->llama-index) (1.3.3)\n",
      "Requirement already satisfied: multidict<7.0,>=4.5 in c:\\users\\arnav\\anaconda3\\lib\\site-packages (from aiohttp<4.0.0,>=3.8.6->llama-index-core<0.11.0,>=0.10.12->llama-index) (6.0.2)\n",
      "Requirement already satisfied: yarl<2.0,>=1.0 in c:\\users\\arnav\\anaconda3\\lib\\site-packages (from aiohttp<4.0.0,>=3.8.6->llama-index-core<0.11.0,>=0.10.12->llama-index) (1.8.1)\n",
      "Requirement already satisfied: soupsieve>1.2 in c:\\users\\arnav\\anaconda3\\lib\\site-packages (from beautifulsoup4<5.0.0,>=4.12.3->llama-index-readers-file<0.2.0,>=0.1.4->llama-index) (2.4)\n",
      "Requirement already satisfied: wrapt<2,>=1.10 in c:\\users\\arnav\\anaconda3\\lib\\site-packages (from deprecated>=1.2.9.3->llama-index-core<0.11.0,>=0.10.12->llama-index) (1.14.1)\n",
      "Requirement already satisfied: chromadb<0.5.0,>=0.4.22 in c:\\users\\arnav\\anaconda3\\lib\\site-packages (from llama-index-vector-stores-chroma<0.2.0,>=0.1.1->llama-index-cli<0.2.0,>=0.1.2->llama-index) (0.4.24)\n",
      "Requirement already satisfied: onnxruntime<2.0.0,>=1.17.0 in c:\\users\\arnav\\anaconda3\\lib\\site-packages (from llama-index-vector-stores-chroma<0.2.0,>=0.1.1->llama-index-cli<0.2.0,>=0.1.2->llama-index) (1.17.1)\n",
      "Requirement already satisfied: tokenizers<0.16.0,>=0.15.1 in c:\\users\\arnav\\anaconda3\\lib\\site-packages (from llama-index-vector-stores-chroma<0.2.0,>=0.1.1->llama-index-cli<0.2.0,>=0.1.2->llama-index) (0.15.2)\n",
      "Requirement already satisfied: pydantic>=1.10 in c:\\users\\arnav\\anaconda3\\lib\\site-packages (from llamaindex-py-client<0.2.0,>=0.1.13->llama-index-core<0.11.0,>=0.10.12->llama-index) (1.10.8)\n",
      "Requirement already satisfied: anyio in c:\\users\\arnav\\anaconda3\\lib\\site-packages (from httpx->llama-index-core<0.11.0,>=0.10.12->llama-index) (3.5.0)\n",
      "Requirement already satisfied: certifi in c:\\users\\arnav\\anaconda3\\lib\\site-packages (from httpx->llama-index-core<0.11.0,>=0.10.12->llama-index) (2024.2.2)\n",
      "Requirement already satisfied: httpcore==1.* in c:\\users\\arnav\\anaconda3\\lib\\site-packages (from httpx->llama-index-core<0.11.0,>=0.10.12->llama-index) (1.0.4)\n",
      "Requirement already satisfied: idna in c:\\users\\arnav\\anaconda3\\lib\\site-packages (from httpx->llama-index-core<0.11.0,>=0.10.12->llama-index) (3.4)\n",
      "Requirement already satisfied: sniffio in c:\\users\\arnav\\anaconda3\\lib\\site-packages (from httpx->llama-index-core<0.11.0,>=0.10.12->llama-index) (1.2.0)\n",
      "Requirement already satisfied: h11<0.15,>=0.13 in c:\\users\\arnav\\anaconda3\\lib\\site-packages (from httpcore==1.*->httpx->llama-index-core<0.11.0,>=0.10.12->llama-index) (0.14.0)\n",
      "Requirement already satisfied: click in c:\\users\\arnav\\anaconda3\\lib\\site-packages (from nltk<4.0.0,>=3.8.1->llama-index-core<0.11.0,>=0.10.12->llama-index) (8.0.4)\n",
      "Requirement already satisfied: joblib in c:\\users\\arnav\\anaconda3\\lib\\site-packages (from nltk<4.0.0,>=3.8.1->llama-index-core<0.11.0,>=0.10.12->llama-index) (1.2.0)\n",
      "Requirement already satisfied: regex>=2021.8.3 in c:\\users\\arnav\\anaconda3\\lib\\site-packages (from nltk<4.0.0,>=3.8.1->llama-index-core<0.11.0,>=0.10.12->llama-index) (2022.7.9)\n",
      "Requirement already satisfied: distro<2,>=1.7.0 in c:\\users\\arnav\\anaconda3\\lib\\site-packages (from openai>=1.1.0->llama-index-core<0.11.0,>=0.10.12->llama-index) (1.9.0)\n",
      "Requirement already satisfied: PyMuPDFb==1.23.22 in c:\\users\\arnav\\anaconda3\\lib\\site-packages (from pymupdf<2.0.0,>=1.23.21->llama-index-readers-file<0.2.0,>=0.1.4->llama-index) (1.23.22)\n",
      "Requirement already satisfied: charset-normalizer<4,>=2 in c:\\users\\arnav\\anaconda3\\lib\\site-packages (from requests>=2.31.0->llama-index-core<0.11.0,>=0.10.12->llama-index) (2.0.4)\n",
      "Requirement already satisfied: urllib3<3,>=1.21.1 in c:\\users\\arnav\\anaconda3\\lib\\site-packages (from requests>=2.31.0->llama-index-core<0.11.0,>=0.10.12->llama-index) (2.2.1)\n",
      "Requirement already satisfied: greenlet!=0.4.17 in c:\\users\\arnav\\anaconda3\\lib\\site-packages (from SQLAlchemy[asyncio]>=1.4.49->llama-index-core<0.11.0,>=0.10.12->llama-index) (2.0.1)\n",
      "Requirement already satisfied: colorama in c:\\users\\arnav\\anaconda3\\lib\\site-packages (from tqdm<5.0.0,>=4.66.1->llama-index-core<0.11.0,>=0.10.12->llama-index) (0.4.6)\n",
      "Requirement already satisfied: mypy-extensions>=0.3.0 in c:\\users\\arnav\\anaconda3\\lib\\site-packages (from typing-inspect>=0.8.0->llama-index-core<0.11.0,>=0.10.12->llama-index) (1.0.0)\n",
      "Requirement already satisfied: marshmallow<4.0.0,>=3.18.0 in c:\\users\\arnav\\anaconda3\\lib\\site-packages (from dataclasses-json->llama-index-core<0.11.0,>=0.10.12->llama-index) (3.20.2)\n",
      "Requirement already satisfied: python-dateutil>=2.8.2 in c:\\users\\arnav\\anaconda3\\lib\\site-packages (from pandas->llama-index-core<0.11.0,>=0.10.12->llama-index) (2.8.2)\n",
      "Requirement already satisfied: pytz>=2020.1 in c:\\users\\arnav\\anaconda3\\lib\\site-packages (from pandas->llama-index-core<0.11.0,>=0.10.12->llama-index) (2023.3.post1)\n",
      "Requirement already satisfied: tzdata>=2022.1 in c:\\users\\arnav\\anaconda3\\lib\\site-packages (from pandas->llama-index-core<0.11.0,>=0.10.12->llama-index) (2023.3)\n",
      "Requirement already satisfied: build>=1.0.3 in c:\\users\\arnav\\anaconda3\\lib\\site-packages (from chromadb<0.5.0,>=0.4.22->llama-index-vector-stores-chroma<0.2.0,>=0.1.1->llama-index-cli<0.2.0,>=0.1.2->llama-index) (1.0.3)\n",
      "Requirement already satisfied: chroma-hnswlib==0.7.3 in c:\\users\\arnav\\anaconda3\\lib\\site-packages (from chromadb<0.5.0,>=0.4.22->llama-index-vector-stores-chroma<0.2.0,>=0.1.1->llama-index-cli<0.2.0,>=0.1.2->llama-index) (0.7.3)\n",
      "Requirement already satisfied: fastapi>=0.95.2 in c:\\users\\arnav\\anaconda3\\lib\\site-packages (from chromadb<0.5.0,>=0.4.22->llama-index-vector-stores-chroma<0.2.0,>=0.1.1->llama-index-cli<0.2.0,>=0.1.2->llama-index) (0.110.0)\n",
      "Requirement already satisfied: uvicorn[standard]>=0.18.3 in c:\\users\\arnav\\anaconda3\\lib\\site-packages (from chromadb<0.5.0,>=0.4.22->llama-index-vector-stores-chroma<0.2.0,>=0.1.1->llama-index-cli<0.2.0,>=0.1.2->llama-index) (0.27.1)\n",
      "Requirement already satisfied: posthog>=2.4.0 in c:\\users\\arnav\\anaconda3\\lib\\site-packages (from chromadb<0.5.0,>=0.4.22->llama-index-vector-stores-chroma<0.2.0,>=0.1.1->llama-index-cli<0.2.0,>=0.1.2->llama-index) (3.4.2)\n",
      "Requirement already satisfied: pulsar-client>=3.1.0 in c:\\users\\arnav\\anaconda3\\lib\\site-packages (from chromadb<0.5.0,>=0.4.22->llama-index-vector-stores-chroma<0.2.0,>=0.1.1->llama-index-cli<0.2.0,>=0.1.2->llama-index) (3.4.0)\n",
      "Requirement already satisfied: opentelemetry-api>=1.2.0 in c:\\users\\arnav\\anaconda3\\lib\\site-packages (from chromadb<0.5.0,>=0.4.22->llama-index-vector-stores-chroma<0.2.0,>=0.1.1->llama-index-cli<0.2.0,>=0.1.2->llama-index) (1.23.0)\n",
      "Requirement already satisfied: opentelemetry-exporter-otlp-proto-grpc>=1.2.0 in c:\\users\\arnav\\anaconda3\\lib\\site-packages (from chromadb<0.5.0,>=0.4.22->llama-index-vector-stores-chroma<0.2.0,>=0.1.1->llama-index-cli<0.2.0,>=0.1.2->llama-index) (1.23.0)\n",
      "Requirement already satisfied: opentelemetry-instrumentation-fastapi>=0.41b0 in c:\\users\\arnav\\anaconda3\\lib\\site-packages (from chromadb<0.5.0,>=0.4.22->llama-index-vector-stores-chroma<0.2.0,>=0.1.1->llama-index-cli<0.2.0,>=0.1.2->llama-index) (0.44b0)\n",
      "Requirement already satisfied: opentelemetry-sdk>=1.2.0 in c:\\users\\arnav\\anaconda3\\lib\\site-packages (from chromadb<0.5.0,>=0.4.22->llama-index-vector-stores-chroma<0.2.0,>=0.1.1->llama-index-cli<0.2.0,>=0.1.2->llama-index) (1.23.0)\n",
      "Requirement already satisfied: pypika>=0.48.9 in c:\\users\\arnav\\anaconda3\\lib\\site-packages (from chromadb<0.5.0,>=0.4.22->llama-index-vector-stores-chroma<0.2.0,>=0.1.1->llama-index-cli<0.2.0,>=0.1.2->llama-index) (0.48.9)\n",
      "Requirement already satisfied: overrides>=7.3.1 in c:\\users\\arnav\\anaconda3\\lib\\site-packages (from chromadb<0.5.0,>=0.4.22->llama-index-vector-stores-chroma<0.2.0,>=0.1.1->llama-index-cli<0.2.0,>=0.1.2->llama-index) (7.7.0)\n",
      "Requirement already satisfied: importlib-resources in c:\\users\\arnav\\anaconda3\\lib\\site-packages (from chromadb<0.5.0,>=0.4.22->llama-index-vector-stores-chroma<0.2.0,>=0.1.1->llama-index-cli<0.2.0,>=0.1.2->llama-index) (6.1.1)\n",
      "Requirement already satisfied: grpcio>=1.58.0 in c:\\users\\arnav\\anaconda3\\lib\\site-packages (from chromadb<0.5.0,>=0.4.22->llama-index-vector-stores-chroma<0.2.0,>=0.1.1->llama-index-cli<0.2.0,>=0.1.2->llama-index) (1.62.0)\n",
      "Requirement already satisfied: bcrypt>=4.0.1 in c:\\users\\arnav\\anaconda3\\lib\\site-packages (from chromadb<0.5.0,>=0.4.22->llama-index-vector-stores-chroma<0.2.0,>=0.1.1->llama-index-cli<0.2.0,>=0.1.2->llama-index) (4.1.2)\n",
      "Requirement already satisfied: typer>=0.9.0 in c:\\users\\arnav\\anaconda3\\lib\\site-packages (from chromadb<0.5.0,>=0.4.22->llama-index-vector-stores-chroma<0.2.0,>=0.1.1->llama-index-cli<0.2.0,>=0.1.2->llama-index) (0.9.0)\n",
      "Requirement already satisfied: kubernetes>=28.1.0 in c:\\users\\arnav\\anaconda3\\lib\\site-packages (from chromadb<0.5.0,>=0.4.22->llama-index-vector-stores-chroma<0.2.0,>=0.1.1->llama-index-cli<0.2.0,>=0.1.2->llama-index) (29.0.0)\n",
      "Requirement already satisfied: mmh3>=4.0.1 in c:\\users\\arnav\\anaconda3\\lib\\site-packages (from chromadb<0.5.0,>=0.4.22->llama-index-vector-stores-chroma<0.2.0,>=0.1.1->llama-index-cli<0.2.0,>=0.1.2->llama-index) (4.1.0)\n",
      "Requirement already satisfied: orjson>=3.9.12 in c:\\users\\arnav\\anaconda3\\lib\\site-packages (from chromadb<0.5.0,>=0.4.22->llama-index-vector-stores-chroma<0.2.0,>=0.1.1->llama-index-cli<0.2.0,>=0.1.2->llama-index) (3.9.15)\n",
      "Requirement already satisfied: packaging>=17.0 in c:\\users\\arnav\\anaconda3\\lib\\site-packages (from marshmallow<4.0.0,>=3.18.0->dataclasses-json->llama-index-core<0.11.0,>=0.10.12->llama-index) (23.2)\n",
      "Requirement already satisfied: coloredlogs in c:\\users\\arnav\\anaconda3\\lib\\site-packages (from onnxruntime<2.0.0,>=1.17.0->llama-index-vector-stores-chroma<0.2.0,>=0.1.1->llama-index-cli<0.2.0,>=0.1.2->llama-index) (15.0.1)\n",
      "Requirement already satisfied: flatbuffers in c:\\users\\arnav\\anaconda3\\lib\\site-packages (from onnxruntime<2.0.0,>=1.17.0->llama-index-vector-stores-chroma<0.2.0,>=0.1.1->llama-index-cli<0.2.0,>=0.1.2->llama-index) (23.5.26)\n",
      "Requirement already satisfied: protobuf in c:\\users\\arnav\\anaconda3\\lib\\site-packages (from onnxruntime<2.0.0,>=1.17.0->llama-index-vector-stores-chroma<0.2.0,>=0.1.1->llama-index-cli<0.2.0,>=0.1.2->llama-index) (4.25.3)\n",
      "Requirement already satisfied: sympy in c:\\users\\arnav\\anaconda3\\lib\\site-packages (from onnxruntime<2.0.0,>=1.17.0->llama-index-vector-stores-chroma<0.2.0,>=0.1.1->llama-index-cli<0.2.0,>=0.1.2->llama-index) (1.11.1)\n",
      "Requirement already satisfied: six>=1.5 in c:\\users\\arnav\\anaconda3\\lib\\site-packages (from python-dateutil>=2.8.2->pandas->llama-index-core<0.11.0,>=0.10.12->llama-index) (1.16.0)\n",
      "Requirement already satisfied: huggingface_hub<1.0,>=0.16.4 in c:\\users\\arnav\\anaconda3\\lib\\site-packages (from tokenizers<0.16.0,>=0.15.1->llama-index-vector-stores-chroma<0.2.0,>=0.1.1->llama-index-cli<0.2.0,>=0.1.2->llama-index) (0.20.3)\n",
      "Requirement already satisfied: pyproject_hooks in c:\\users\\arnav\\anaconda3\\lib\\site-packages (from build>=1.0.3->chromadb<0.5.0,>=0.4.22->llama-index-vector-stores-chroma<0.2.0,>=0.1.1->llama-index-cli<0.2.0,>=0.1.2->llama-index) (1.0.0)\n",
      "Requirement already satisfied: starlette<0.37.0,>=0.36.3 in c:\\users\\arnav\\anaconda3\\lib\\site-packages (from fastapi>=0.95.2->chromadb<0.5.0,>=0.4.22->llama-index-vector-stores-chroma<0.2.0,>=0.1.1->llama-index-cli<0.2.0,>=0.1.2->llama-index) (0.36.3)\n",
      "Requirement already satisfied: filelock in c:\\users\\arnav\\anaconda3\\lib\\site-packages (from huggingface_hub<1.0,>=0.16.4->tokenizers<0.16.0,>=0.15.1->llama-index-vector-stores-chroma<0.2.0,>=0.1.1->llama-index-cli<0.2.0,>=0.1.2->llama-index) (3.9.0)\n",
      "Requirement already satisfied: google-auth>=1.0.1 in c:\\users\\arnav\\anaconda3\\lib\\site-packages (from kubernetes>=28.1.0->chromadb<0.5.0,>=0.4.22->llama-index-vector-stores-chroma<0.2.0,>=0.1.1->llama-index-cli<0.2.0,>=0.1.2->llama-index) (2.28.1)\n",
      "Requirement already satisfied: websocket-client!=0.40.0,!=0.41.*,!=0.42.*,>=0.32.0 in c:\\users\\arnav\\anaconda3\\lib\\site-packages (from kubernetes>=28.1.0->chromadb<0.5.0,>=0.4.22->llama-index-vector-stores-chroma<0.2.0,>=0.1.1->llama-index-cli<0.2.0,>=0.1.2->llama-index) (0.58.0)\n",
      "Requirement already satisfied: requests-oauthlib in c:\\users\\arnav\\anaconda3\\lib\\site-packages (from kubernetes>=28.1.0->chromadb<0.5.0,>=0.4.22->llama-index-vector-stores-chroma<0.2.0,>=0.1.1->llama-index-cli<0.2.0,>=0.1.2->llama-index) (1.3.1)\n",
      "Requirement already satisfied: oauthlib>=3.2.2 in c:\\users\\arnav\\anaconda3\\lib\\site-packages (from kubernetes>=28.1.0->chromadb<0.5.0,>=0.4.22->llama-index-vector-stores-chroma<0.2.0,>=0.1.1->llama-index-cli<0.2.0,>=0.1.2->llama-index) (3.2.2)\n",
      "Requirement already satisfied: importlib-metadata<7.0,>=6.0 in c:\\users\\arnav\\anaconda3\\lib\\site-packages (from opentelemetry-api>=1.2.0->chromadb<0.5.0,>=0.4.22->llama-index-vector-stores-chroma<0.2.0,>=0.1.1->llama-index-cli<0.2.0,>=0.1.2->llama-index) (6.0.0)\n",
      "Requirement already satisfied: googleapis-common-protos~=1.52 in c:\\users\\arnav\\anaconda3\\lib\\site-packages (from opentelemetry-exporter-otlp-proto-grpc>=1.2.0->chromadb<0.5.0,>=0.4.22->llama-index-vector-stores-chroma<0.2.0,>=0.1.1->llama-index-cli<0.2.0,>=0.1.2->llama-index) (1.62.0)\n",
      "Requirement already satisfied: opentelemetry-exporter-otlp-proto-common==1.23.0 in c:\\users\\arnav\\anaconda3\\lib\\site-packages (from opentelemetry-exporter-otlp-proto-grpc>=1.2.0->chromadb<0.5.0,>=0.4.22->llama-index-vector-stores-chroma<0.2.0,>=0.1.1->llama-index-cli<0.2.0,>=0.1.2->llama-index) (1.23.0)\n",
      "Requirement already satisfied: opentelemetry-proto==1.23.0 in c:\\users\\arnav\\anaconda3\\lib\\site-packages (from opentelemetry-exporter-otlp-proto-grpc>=1.2.0->chromadb<0.5.0,>=0.4.22->llama-index-vector-stores-chroma<0.2.0,>=0.1.1->llama-index-cli<0.2.0,>=0.1.2->llama-index) (1.23.0)\n",
      "Requirement already satisfied: opentelemetry-instrumentation-asgi==0.44b0 in c:\\users\\arnav\\anaconda3\\lib\\site-packages (from opentelemetry-instrumentation-fastapi>=0.41b0->chromadb<0.5.0,>=0.4.22->llama-index-vector-stores-chroma<0.2.0,>=0.1.1->llama-index-cli<0.2.0,>=0.1.2->llama-index) (0.44b0)\n",
      "Requirement already satisfied: opentelemetry-instrumentation==0.44b0 in c:\\users\\arnav\\anaconda3\\lib\\site-packages (from opentelemetry-instrumentation-fastapi>=0.41b0->chromadb<0.5.0,>=0.4.22->llama-index-vector-stores-chroma<0.2.0,>=0.1.1->llama-index-cli<0.2.0,>=0.1.2->llama-index) (0.44b0)\n",
      "Requirement already satisfied: opentelemetry-semantic-conventions==0.44b0 in c:\\users\\arnav\\anaconda3\\lib\\site-packages (from opentelemetry-instrumentation-fastapi>=0.41b0->chromadb<0.5.0,>=0.4.22->llama-index-vector-stores-chroma<0.2.0,>=0.1.1->llama-index-cli<0.2.0,>=0.1.2->llama-index) (0.44b0)\n",
      "Requirement already satisfied: opentelemetry-util-http==0.44b0 in c:\\users\\arnav\\anaconda3\\lib\\site-packages (from opentelemetry-instrumentation-fastapi>=0.41b0->chromadb<0.5.0,>=0.4.22->llama-index-vector-stores-chroma<0.2.0,>=0.1.1->llama-index-cli<0.2.0,>=0.1.2->llama-index) (0.44b0)\n",
      "Requirement already satisfied: setuptools>=16.0 in c:\\users\\arnav\\anaconda3\\lib\\site-packages (from opentelemetry-instrumentation==0.44b0->opentelemetry-instrumentation-fastapi>=0.41b0->chromadb<0.5.0,>=0.4.22->llama-index-vector-stores-chroma<0.2.0,>=0.1.1->llama-index-cli<0.2.0,>=0.1.2->llama-index) (68.0.0)\n",
      "Requirement already satisfied: asgiref~=3.0 in c:\\users\\arnav\\anaconda3\\lib\\site-packages (from opentelemetry-instrumentation-asgi==0.44b0->opentelemetry-instrumentation-fastapi>=0.41b0->chromadb<0.5.0,>=0.4.22->llama-index-vector-stores-chroma<0.2.0,>=0.1.1->llama-index-cli<0.2.0,>=0.1.2->llama-index) (3.7.2)\n",
      "Requirement already satisfied: monotonic>=1.5 in c:\\users\\arnav\\anaconda3\\lib\\site-packages (from posthog>=2.4.0->chromadb<0.5.0,>=0.4.22->llama-index-vector-stores-chroma<0.2.0,>=0.1.1->llama-index-cli<0.2.0,>=0.1.2->llama-index) (1.6)\n",
      "Requirement already satisfied: backoff>=1.10.0 in c:\\users\\arnav\\anaconda3\\lib\\site-packages (from posthog>=2.4.0->chromadb<0.5.0,>=0.4.22->llama-index-vector-stores-chroma<0.2.0,>=0.1.1->llama-index-cli<0.2.0,>=0.1.2->llama-index) (2.2.1)\n",
      "Requirement already satisfied: httptools>=0.5.0 in c:\\users\\arnav\\anaconda3\\lib\\site-packages (from uvicorn[standard]>=0.18.3->chromadb<0.5.0,>=0.4.22->llama-index-vector-stores-chroma<0.2.0,>=0.1.1->llama-index-cli<0.2.0,>=0.1.2->llama-index) (0.6.1)\n",
      "Requirement already satisfied: python-dotenv>=0.13 in c:\\users\\arnav\\anaconda3\\lib\\site-packages (from uvicorn[standard]>=0.18.3->chromadb<0.5.0,>=0.4.22->llama-index-vector-stores-chroma<0.2.0,>=0.1.1->llama-index-cli<0.2.0,>=0.1.2->llama-index) (0.21.0)\n",
      "Requirement already satisfied: watchfiles>=0.13 in c:\\users\\arnav\\anaconda3\\lib\\site-packages (from uvicorn[standard]>=0.18.3->chromadb<0.5.0,>=0.4.22->llama-index-vector-stores-chroma<0.2.0,>=0.1.1->llama-index-cli<0.2.0,>=0.1.2->llama-index) (0.21.0)\n",
      "Requirement already satisfied: websockets>=10.4 in c:\\users\\arnav\\anaconda3\\lib\\site-packages (from uvicorn[standard]>=0.18.3->chromadb<0.5.0,>=0.4.22->llama-index-vector-stores-chroma<0.2.0,>=0.1.1->llama-index-cli<0.2.0,>=0.1.2->llama-index) (12.0)\n",
      "Requirement already satisfied: humanfriendly>=9.1 in c:\\users\\arnav\\anaconda3\\lib\\site-packages (from coloredlogs->onnxruntime<2.0.0,>=1.17.0->llama-index-vector-stores-chroma<0.2.0,>=0.1.1->llama-index-cli<0.2.0,>=0.1.2->llama-index) (10.0)\n",
      "Requirement already satisfied: mpmath>=0.19 in c:\\users\\arnav\\anaconda3\\lib\\site-packages (from sympy->onnxruntime<2.0.0,>=1.17.0->llama-index-vector-stores-chroma<0.2.0,>=0.1.1->llama-index-cli<0.2.0,>=0.1.2->llama-index) (1.3.0)\n",
      "Requirement already satisfied: cachetools<6.0,>=2.0.0 in c:\\users\\arnav\\anaconda3\\lib\\site-packages (from google-auth>=1.0.1->kubernetes>=28.1.0->chromadb<0.5.0,>=0.4.22->llama-index-vector-stores-chroma<0.2.0,>=0.1.1->llama-index-cli<0.2.0,>=0.1.2->llama-index) (5.3.2)\n",
      "Requirement already satisfied: pyasn1-modules>=0.2.1 in c:\\users\\arnav\\anaconda3\\lib\\site-packages (from google-auth>=1.0.1->kubernetes>=28.1.0->chromadb<0.5.0,>=0.4.22->llama-index-vector-stores-chroma<0.2.0,>=0.1.1->llama-index-cli<0.2.0,>=0.1.2->llama-index) (0.2.8)\n",
      "Requirement already satisfied: rsa<5,>=3.1.4 in c:\\users\\arnav\\anaconda3\\lib\\site-packages (from google-auth>=1.0.1->kubernetes>=28.1.0->chromadb<0.5.0,>=0.4.22->llama-index-vector-stores-chroma<0.2.0,>=0.1.1->llama-index-cli<0.2.0,>=0.1.2->llama-index) (4.9)\n",
      "Requirement already satisfied: pyreadline3 in c:\\users\\arnav\\anaconda3\\lib\\site-packages (from humanfriendly>=9.1->coloredlogs->onnxruntime<2.0.0,>=1.17.0->llama-index-vector-stores-chroma<0.2.0,>=0.1.1->llama-index-cli<0.2.0,>=0.1.2->llama-index) (3.4.1)\n",
      "Requirement already satisfied: zipp>=0.5 in c:\\users\\arnav\\anaconda3\\lib\\site-packages (from importlib-metadata<7.0,>=6.0->opentelemetry-api>=1.2.0->chromadb<0.5.0,>=0.4.22->llama-index-vector-stores-chroma<0.2.0,>=0.1.1->llama-index-cli<0.2.0,>=0.1.2->llama-index) (3.11.0)\n",
      "Requirement already satisfied: pyasn1<0.5.0,>=0.4.6 in c:\\users\\arnav\\anaconda3\\lib\\site-packages (from pyasn1-modules>=0.2.1->google-auth>=1.0.1->kubernetes>=28.1.0->chromadb<0.5.0,>=0.4.22->llama-index-vector-stores-chroma<0.2.0,>=0.1.1->llama-index-cli<0.2.0,>=0.1.2->llama-index) (0.4.8)\n"
     ]
    }
   ],
   "source": [
    "%pip install llama-index"
   ]
  },
  {
   "cell_type": "code",
   "execution_count": 3,
   "metadata": {},
   "outputs": [],
   "source": [
    "from llama_index.core import SimpleDirectoryReader, VectorStoreIndex, DocumentSummaryIndex\n",
    "from llama_index.llms.openai import OpenAI"
   ]
  },
  {
   "cell_type": "code",
   "execution_count": 4,
   "metadata": {},
   "outputs": [],
   "source": [
    "# import os\n",
    "# os.environ['OPENAI_API_KEY'] ={OPENAI_API_KEY}"
   ]
  },
  {
   "cell_type": "code",
   "execution_count": 5,
   "metadata": {},
   "outputs": [],
   "source": [
    "gpt35 = OpenAI()"
   ]
  },
  {
   "cell_type": "code",
   "execution_count": 6,
   "metadata": {},
   "outputs": [],
   "source": [
    "docs = SimpleDirectoryReader(\"./data\").load_data()"
   ]
  },
  {
   "cell_type": "code",
   "execution_count": 7,
   "metadata": {},
   "outputs": [
    {
     "name": "stdout",
     "output_type": "stream",
     "text": [
      "49\n"
     ]
    }
   ],
   "source": [
    "print(len(docs))"
   ]
  },
  {
   "cell_type": "code",
   "execution_count": 8,
   "metadata": {},
   "outputs": [],
   "source": [
    "# index = VectorStoreIndex.from_documents(docs)"
   ]
  },
  {
   "cell_type": "code",
   "execution_count": 10,
   "metadata": {},
   "outputs": [],
   "source": [
    "import os\n",
    "from llama_index.core import StorageContext, load_index_from_storage\n",
    "\n",
    "PERSIST_DIR = \"./storage\"\n",
    "if not os.path.exists(PERSIST_DIR):\n",
    "    # load the documents and create the index\n",
    "    index = VectorStoreIndex.from_documents(docs)\n",
    "    # store it for later\n",
    "    index.storage_context.persist(persist_dir=PERSIST_DIR + \"/index\")\n",
    "else:\n",
    "    # load the existing index\n",
    "    storage_context_dex = StorageContext.from_defaults(persist_dir=PERSIST_DIR + \"/index\")\n",
    "    index = load_index_from_storage(storage_context_dex)"
   ]
  },
  {
   "cell_type": "code",
   "execution_count": 11,
   "metadata": {},
   "outputs": [],
   "source": [
    "queryengine = index.as_query_engine()\n",
    "chatengine = index.as_chat_engine()\n",
    "\n",
    "# qe2 = summary.as_query_engine()"
   ]
  },
  {
   "cell_type": "code",
   "execution_count": 17,
   "metadata": {},
   "outputs": [],
   "source": [
    "# window_size = 2400\n",
    "# chatengine.set_context_window_size(window_size)"
   ]
  },
  {
   "cell_type": "code",
   "execution_count": 18,
   "metadata": {},
   "outputs": [],
   "source": [
    "query = \"explain tumor-immune interactions as it relates to immunosurveillance, cite which page numbers in the relevant documents support the explanation.\""
   ]
  },
  {
   "cell_type": "code",
   "execution_count": 20,
   "metadata": {},
   "outputs": [],
   "source": [
    "qe_resp = queryengine.query(query).response\n",
    "# qe2_resp = qe2.query(query).response"
   ]
  },
  {
   "cell_type": "code",
   "execution_count": 14,
   "metadata": {},
   "outputs": [],
   "source": [
    "ce_resp = chatengine.query(query).response "
   ]
  },
  {
   "cell_type": "code",
   "execution_count": 15,
   "metadata": {},
   "outputs": [
    {
     "data": {
      "text/plain": [
       "'Tumor-immune interactions involve a complex interplay between the tumor and the immune system. Somatic alterations in tumors, such as driver mutations, can impact immune responses by altering pathways that affect immune cells. Tumor-specific neoantigens are key targets of anti-tumor immunity and can influence the response to immune checkpoint inhibitors. The immune landscape within the tumor microenvironment is regulated by various immune cells, such as mast cells, neutrophils, CD4 T cells, NK cells, B cells, eosinophils, macrophages, and CD8 T cells, which communicate through specific receptor-ligand interactions. Transcription factors and miRNAs also play a role in regulating immune cell infiltration, with therapies targeting these regulatory factors potentially having a broader impact across different tumor types. It is important to consider the complexity of tumor-immune interactions and the need for further research to understand the functional aspects of these associations.\\n\\nDocuments supporting the explanation of tumor-immune interactions can be found in \"data\\\\cancer_paper.pdf\" on page 824 and in \"data\\\\cancer_paper_2.pdf\" on page 147.'"
      ]
     },
     "execution_count": 15,
     "metadata": {},
     "output_type": "execute_result"
    }
   ],
   "source": [
    "ce_resp"
   ]
  },
  {
   "cell_type": "code",
   "execution_count": 21,
   "metadata": {},
   "outputs": [],
   "source": [
    "query2 = \"explain the differences between these two answers to the question: \" + query + \". What are the pros and cons of both answers? Answer 1: \" + qe_resp + \" Answer 2: \" + ce_resp"
   ]
  },
  {
   "cell_type": "code",
   "execution_count": 22,
   "metadata": {},
   "outputs": [
    {
     "data": {
      "text/plain": [
       "'Answer 1 focuses on the diverse factors influencing tumor-immune interactions in the context of immunosurveillance, emphasizing the importance of assessing various immunologic components across different tumor models. It highlights the role of different T cell subsets, specifically /H9251/H9252T cells and /H9253/H9254T cells, in tumor formation and regulation, as supported by information on pages 139 and 824.\\n\\nAnswer 2 delves into the intricate interplay between tumors and the immune system, discussing how somatic alterations like driver mutations can impact immune responses by altering pathways affecting immune cells. It also mentions the significance of tumor-specific neoantigens in anti-tumor immunity and the regulation of the immune landscape within the tumor microenvironment by various immune cells and their interactions through receptor-ligand pairs. This explanation is supported by details found on pages 824 and 147.\\n\\nPros of Answer 1: \\n- Provides a detailed overview of the multivariable process of tumor-immune interactions in immunosurveillance.\\n- Emphasizes the need to consider various factors influencing tumor development and the role of different T cell subsets.\\n\\nCons of Answer 1:\\n- May lack depth in discussing specific molecular mechanisms and immune cell interactions within the tumor microenvironment.\\n- Focuses more on general aspects of immunosurveillance rather than specific molecular pathways.\\n\\nPros of Answer 2:\\n- Offers insights into how somatic alterations in tumors and tumor-specific neoantigens impact immune responses.\\n- Discusses the role of different immune cells and their communication within the tumor microenvironment.\\n\\nCons of Answer 2:\\n- Might not provide as comprehensive a view of the diverse factors influencing tumor-immune interactions in immunosurveillance.\\n- Could benefit from more emphasis on the specific roles of different T cell subsets in tumor regulation.'"
      ]
     },
     "execution_count": 22,
     "metadata": {},
     "output_type": "execute_result"
    }
   ],
   "source": [
    "queryengine.query(query2).response"
   ]
  },
  {
   "cell_type": "code",
   "execution_count": null,
   "metadata": {},
   "outputs": [],
   "source": []
  }
 ],
 "metadata": {
  "kernelspec": {
   "display_name": "base",
   "language": "python",
   "name": "python3"
  },
  "language_info": {
   "codemirror_mode": {
    "name": "ipython",
    "version": 3
   },
   "file_extension": ".py",
   "mimetype": "text/x-python",
   "name": "python",
   "nbconvert_exporter": "python",
   "pygments_lexer": "ipython3",
   "version": "3.11.5"
  }
 },
 "nbformat": 4,
 "nbformat_minor": 2
}
