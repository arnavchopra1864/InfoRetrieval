{
 "cells": [
  {
   "cell_type": "code",
   "execution_count": 1,
   "metadata": {},
   "outputs": [
    {
     "ename": "HTTPError",
     "evalue": "422 Client Error: Unprocessable Entity for url: https://api.tavily.com/search",
     "output_type": "error",
     "traceback": [
      "\u001b[0;31m---------------------------------------------------------------------------\u001b[0m",
      "\u001b[0;31mHTTPError\u001b[0m                                 Traceback (most recent call last)",
      "Cell \u001b[0;32mIn[1], line 12\u001b[0m\n\u001b[1;32m      8\u001b[0m \u001b[38;5;28;01mimport\u001b[39;00m \u001b[38;5;21;01mos\u001b[39;00m\n\u001b[1;32m     10\u001b[0m tavily \u001b[38;5;241m=\u001b[39m TavilyClient(api_key\u001b[38;5;241m=\u001b[39mos\u001b[38;5;241m.\u001b[39mgetenv(\u001b[38;5;124m'\u001b[39m\u001b[38;5;124mTAVILY_API_KEY\u001b[39m\u001b[38;5;124m'\u001b[39m))\n\u001b[0;32m---> 12\u001b[0m response \u001b[38;5;241m=\u001b[39m \u001b[43mtavily\u001b[49m\u001b[38;5;241;43m.\u001b[39;49m\u001b[43msearch\u001b[49m\u001b[43m(\u001b[49m\u001b[43mquery\u001b[49m\u001b[38;5;241;43m=\u001b[39;49m\u001b[43muser_query\u001b[49m\u001b[43m,\u001b[49m\u001b[43m \u001b[49m\n\u001b[1;32m     13\u001b[0m \u001b[43m                         \u001b[49m\u001b[43msearch_depth\u001b[49m\u001b[38;5;241;43m=\u001b[39;49m\u001b[38;5;124;43m\"\u001b[39;49m\u001b[38;5;124;43madvanced\u001b[39;49m\u001b[38;5;124;43m\"\u001b[39;49m\u001b[43m,\u001b[49m\u001b[43m \u001b[49m\n\u001b[1;32m     14\u001b[0m \u001b[43m                         \u001b[49m\u001b[43minclude_raw_content\u001b[49m\u001b[38;5;241;43m=\u001b[39;49m\u001b[38;5;28;43;01mTrue\u001b[39;49;00m\u001b[43m,\u001b[49m\n\u001b[1;32m     15\u001b[0m \u001b[43m                         \u001b[49m\u001b[43mmax_results\u001b[49m\u001b[38;5;241;43m=\u001b[39;49m\u001b[38;5;241;43m5\u001b[39;49m\u001b[43m)\u001b[49m\n",
      "File \u001b[0;32m/opt/homebrew/lib/python3.9/site-packages/tavily/tavily.py:48\u001b[0m, in \u001b[0;36mTavilyClient.search\u001b[0;34m(self, query, search_depth, **kwargs)\u001b[0m\n\u001b[1;32m     44\u001b[0m \u001b[38;5;28;01mdef\u001b[39;00m \u001b[38;5;21msearch\u001b[39m(\u001b[38;5;28mself\u001b[39m, query, search_depth\u001b[38;5;241m=\u001b[39m\u001b[38;5;124m\"\u001b[39m\u001b[38;5;124mbasic\u001b[39m\u001b[38;5;124m\"\u001b[39m, \u001b[38;5;241m*\u001b[39m\u001b[38;5;241m*\u001b[39mkwargs):\n\u001b[1;32m     45\u001b[0m \u001b[38;5;250m    \u001b[39m\u001b[38;5;124;03m\"\"\"\u001b[39;00m\n\u001b[1;32m     46\u001b[0m \u001b[38;5;124;03m    Combined search method. Set search_depth to either \"basic\" or \"advanced\".\u001b[39;00m\n\u001b[1;32m     47\u001b[0m \u001b[38;5;124;03m    \"\"\"\u001b[39;00m\n\u001b[0;32m---> 48\u001b[0m     \u001b[38;5;28;01mreturn\u001b[39;00m \u001b[38;5;28;43mself\u001b[39;49m\u001b[38;5;241;43m.\u001b[39;49m\u001b[43m_search\u001b[49m\u001b[43m(\u001b[49m\u001b[43mquery\u001b[49m\u001b[43m,\u001b[49m\u001b[43m \u001b[49m\u001b[43msearch_depth\u001b[49m\u001b[38;5;241;43m=\u001b[39;49m\u001b[43msearch_depth\u001b[49m\u001b[43m,\u001b[49m\u001b[43m \u001b[49m\u001b[38;5;241;43m*\u001b[39;49m\u001b[38;5;241;43m*\u001b[39;49m\u001b[43mkwargs\u001b[49m\u001b[43m)\u001b[49m\n",
      "File \u001b[0;32m/opt/homebrew/lib/python3.9/site-packages/tavily/tavily.py:42\u001b[0m, in \u001b[0;36mTavilyClient._search\u001b[0;34m(self, query, search_depth, topic, days, max_results, include_domains, exclude_domains, include_answer, include_raw_content, include_images, use_cache)\u001b[0m\n\u001b[1;32m     40\u001b[0m     \u001b[38;5;28;01mreturn\u001b[39;00m response\u001b[38;5;241m.\u001b[39mjson()\n\u001b[1;32m     41\u001b[0m \u001b[38;5;28;01melse\u001b[39;00m:\n\u001b[0;32m---> 42\u001b[0m     \u001b[43mresponse\u001b[49m\u001b[38;5;241;43m.\u001b[39;49m\u001b[43mraise_for_status\u001b[49m\u001b[43m(\u001b[49m\u001b[43m)\u001b[49m\n",
      "File \u001b[0;32m/opt/homebrew/lib/python3.9/site-packages/requests/models.py:1021\u001b[0m, in \u001b[0;36mResponse.raise_for_status\u001b[0;34m(self)\u001b[0m\n\u001b[1;32m   1016\u001b[0m     http_error_msg \u001b[38;5;241m=\u001b[39m (\n\u001b[1;32m   1017\u001b[0m         \u001b[38;5;124mf\u001b[39m\u001b[38;5;124m\"\u001b[39m\u001b[38;5;132;01m{\u001b[39;00m\u001b[38;5;28mself\u001b[39m\u001b[38;5;241m.\u001b[39mstatus_code\u001b[38;5;132;01m}\u001b[39;00m\u001b[38;5;124m Server Error: \u001b[39m\u001b[38;5;132;01m{\u001b[39;00mreason\u001b[38;5;132;01m}\u001b[39;00m\u001b[38;5;124m for url: \u001b[39m\u001b[38;5;132;01m{\u001b[39;00m\u001b[38;5;28mself\u001b[39m\u001b[38;5;241m.\u001b[39murl\u001b[38;5;132;01m}\u001b[39;00m\u001b[38;5;124m\"\u001b[39m\n\u001b[1;32m   1018\u001b[0m     )\n\u001b[1;32m   1020\u001b[0m \u001b[38;5;28;01mif\u001b[39;00m http_error_msg:\n\u001b[0;32m-> 1021\u001b[0m     \u001b[38;5;28;01mraise\u001b[39;00m HTTPError(http_error_msg, response\u001b[38;5;241m=\u001b[39m\u001b[38;5;28mself\u001b[39m)\n",
      "\u001b[0;31mHTTPError\u001b[0m: 422 Client Error: Unprocessable Entity for url: https://api.tavily.com/search"
     ]
    }
   ],
   "source": [
    "## Getting content from tavily APIs\n",
    "\n",
    "user_query = \"What are the effects of parental involvement on academic performance?\"\n",
    "#user_query = \"How can a father and mother influence a child's performance and grades in school?\"\n",
    "\n",
    "from tavily import TavilyClient\n",
    "import shutil\n",
    "import os\n",
    "\n",
    "tavily = TavilyClient(api_key=os.getenv('TAVILY_API_KEY'))\n",
    "\n",
    "response = tavily.search(query=user_query, \n",
    "                         search_depth=\"advanced\", \n",
    "                         include_raw_content=True,\n",
    "                         max_results=5)"
   ]
  },
  {
   "cell_type": "code",
   "execution_count": 21,
   "metadata": {},
   "outputs": [],
   "source": [
    "if os.path.exists('tavily_data'):\n",
    "    shutil.rmtree('tavily_data')\n",
    "    os.makedirs('tavily_data')\n",
    "else:\n",
    "    os.makedirs('tavily_data')\n",
    "\n",
    "for count, result in enumerate(response['results']):\n",
    "    f = open(\"tavily_data/demofile{}.txt\".format(count), \"a\", encoding=\"utf-8\")\n",
    "    f.truncate(0)\n",
    "    f.write(result['raw_content'])\n",
    "    f.close()"
   ]
  },
  {
   "cell_type": "code",
   "execution_count": 22,
   "metadata": {},
   "outputs": [],
   "source": [
    "## querying AI model\n",
    "\n",
    "from pathlib import Path\n",
    "from llama_index.core import (\n",
    "    VectorStoreIndex,\n",
    "    SimpleDirectoryReader,\n",
    ")\n",
    "from llama_index.llms.openai import OpenAI\n",
    "from typing import List, Optional\n",
    "from llama_index.llms.huggingface import (\n",
    "    HuggingFaceInferenceAPI,\n",
    "    HuggingFaceLLM,\n",
    ")\n",
    "from llama_index.embeddings.huggingface import HuggingFaceEmbedding\n",
    "from pydantic import BaseModel\n",
    "from llama_index.core.node_parser import SentenceSplitter\n",
    "from llama_index.core.node_parser import SentenceWindowNodeParser\n",
    "from llama_index.core.schema import IndexNode\n",
    "from llama_index.core.embeddings import resolve_embed_model\n",
    "from llama_index.core.response.notebook_utils import display_source_node\n",
    "from llama_index.core.query_engine import RetrieverQueryEngine\n",
    "from llama_index.core.postprocessor import MetadataReplacementPostProcessor"
   ]
  },
  {
   "cell_type": "code",
   "execution_count": 23,
   "metadata": {},
   "outputs": [],
   "source": [
    "from llama_index.core import Settings\n",
    "Settings.llm = OpenAI(model=\"gpt-4\", api_key=os.getenv(\"OPENAI_API_KEY\"))"
   ]
  },
  {
   "cell_type": "code",
   "execution_count": 9,
   "metadata": {},
   "outputs": [],
   "source": [
    "documents = SimpleDirectoryReader(\"tavily_data\").load_data()\n",
    "index = VectorStoreIndex.from_documents(documents)"
   ]
  },
  {
   "cell_type": "code",
   "execution_count": 24,
   "metadata": {},
   "outputs": [],
   "source": [
    "# HF_TOKEN: Optional[str] = os.getenv(\"HUGGING_FACE_TOKEN\")\n",
    "gpt4 = OpenAI(model=\"gpt-4\", api_key=os.environ['OPENAI_API_KEY'])\n",
    "query = user_query"
   ]
  },
  {
   "cell_type": "code",
   "execution_count": 25,
   "metadata": {},
   "outputs": [],
   "source": [
    "node_parser = SentenceWindowNodeParser.from_defaults(\n",
    "    window_size=3,\n",
    "    window_metadata_key=\"window\",\n",
    "    original_text_metadata_key=\"original_text\",\n",
    ")\n",
    "text_splitter = SentenceSplitter()\n",
    "embed_model = HuggingFaceEmbedding(\n",
    "    model_name=\"sentence-transformers/all-mpnet-base-v2\", max_length=512\n",
    ")\n",
    "Settings.embed_model = embed_model\n",
    "Settings.text_splitter = text_splitter\n",
    "\n",
    "nodes = node_parser.get_nodes_from_documents(documents)\n",
    "base_nodes = text_splitter.get_nodes_from_documents(documents)\n",
    "\n",
    "sentence_index = VectorStoreIndex(nodes)\n",
    "base_index = VectorStoreIndex(base_nodes)\n"
   ]
  },
  {
   "cell_type": "code",
   "execution_count": 26,
   "metadata": {},
   "outputs": [
    {
     "name": "stdout",
     "output_type": "stream",
     "text": [
      "Window: \n",
      "Therefore, it is important to examine factors that contribute to early academic success and that are amenable to change.\n",
      " Researchers have reported that parent-child interactions, specifically stimulating and responsive parenting practices, are important influences on a child's academic development (Christian, Morrison, & Bryant, 1998; Committee on Early Childhood Pedagogy, 2000).  By examining specific parenting practices that are amenable to change, such as parent involvement, and the mechanisms by which these practices influence academic performance, programs may be developed to increase a child's academic performance.  While parent involvement has been found to be related to increased academic performance, the specific mechanisms through which parent involvement exerts its influence on a child's academic performance are not yet fully understood (Hill & Craft, 2003).  Understanding these mechanisms would inform further research and policy initiatives and may lead to the development of more effective intervention programs designed to increase children's academic performance.\n",
      " Models of Parent Involvement\n",
      "Parent involvement has been defined and measured in multiple ways, including activities that parents engage in at home and at school and positive attitudes parents have towards their child's education, school, and teacher (Epstein, 1996; Grolnick & Slowiaczek, 1994; Kohl, Lengua, & McMahon, 2000).  The distinction between the activities parents partake in and the attitude parents have towards education was highlighted by several recent studies. \n",
      "Original Sentence: \n",
      "While parent involvement has been found to be related to increased academic performance, the specific mechanisms through which parent involvement exerts its influence on a child's academic performance are not yet fully understood (Hill & Craft, 2003). \n",
      "\n",
      "Window: \n",
      "Examined as multiple mediators, perceived cognitive competence fully mediated the relation between parent involvement and the child's WIAT-II score, over and above the influence of the quality of the student-teacher relationship.  It may be the case that the variance of the relation between parent involvement and WIAT-II score is already explained by the child's perception of cognitive competence.  In addition, the student-teacher relationship was a full mediator of the relation between parent involvement and teacher ratings of the child's classroom academic performance.  This is one of the first studies to examine a mechanism by which parent involvement is related to a child's academic performance.  Two statistical techniques to test for mediation were used, further confirming the findings.\n",
      " Although this study had many strengths, results of the present study are tempered by a consideration of several methodological limitations.  One limitation was that cross-sectional data were used. \n",
      "Original Sentence: \n",
      "This is one of the first studies to examine a mechanism by which parent involvement is related to a child's academic performance. \n",
      "\n",
      "Parental involvement has been found to be related to increased academic performance. This involvement can be defined and measured in various ways, including the activities that parents engage in at home and at school, as well as the positive attitudes parents have towards their child's education, school, and teacher. The specific mechanisms through which parental involvement influences a child's academic performance are not yet fully understood. However, one study found that perceived cognitive competence fully mediated the relation between parent involvement and the child's academic performance, over and above the influence of the quality of the student-teacher relationship. Additionally, the student-teacher relationship was a full mediator of the relation between parent involvement and teacher ratings of the child's classroom academic performance.\n"
     ]
    }
   ],
   "source": [
    "query_engine = sentence_index.as_query_engine(\n",
    "    similarity_top_k=2,\n",
    "    node_postprocessors=[\n",
    "        MetadataReplacementPostProcessor(target_metadata_key=\"window\")\n",
    "    ],\n",
    ")\n",
    "window_response = query_engine.query(query)\n",
    "\n",
    "for window in window_response.source_nodes:\n",
    "    print(\"Window: \")\n",
    "    print(window.node.metadata[\"window\"])\n",
    "    print(\"Original Sentence: \")\n",
    "    print(window.node.metadata[\"original_text\"])\n",
    "    print()\n",
    "\n",
    "print(window_response)\n"
   ]
  },
  {
   "cell_type": "code",
   "execution_count": 8,
   "metadata": {},
   "outputs": [
    {
     "data": {
      "text/markdown": [
       "**Node ID:** 42d14a4e-b3af-4fa9-80af-dfb165064692<br>**Similarity:** 0.8463510220273155<br>**Text:** Parents who communicate with their children, visit museums, or record daily activities can cultivate children’s information literacy, improve math and reading scores, and directly stimulate cognitive development (Sibley and Dearing, 2014; Choe, 2020). Moreover, family socioeconomic status (SES), related developmental resources (including parental support, expectations, and reading resources), and students’ individual reading motivation (including reading engagement and reading confidence) also affect adolescents’ learning outcomes (including academic achievement, school grades, and reading competence) (Mudrak et al., 2020).\n",
       "With the increase in communication time between adolescent students and their peers, they gradually break away from their families to participate in peer interaction; peers have become another major field affecting their development (Criss et al., 2016). The interpersonal relationship established by teenagers in the school field plays an essential role in their behavior development, cognitive ability, and academic performance, especially adolescents’ academic engagement or learning performance is influenced by friendship quality (Sebanc et al., 2016), friends’ gain and loss (Lessard and Juvonen, 2018), and peer personality (Golsteyn et al., 2021) factors in peer groups. Reviewing the research on the influence of family and important others on students’ achievement, there are two main points of view: On the one hand, according to American psychologist Ha...<br>"
      ],
      "text/plain": [
       "<IPython.core.display.Markdown object>"
      ]
     },
     "metadata": {},
     "output_type": "display_data"
    },
    {
     "data": {
      "text/markdown": [
       "**Node ID:** ab61e1b0-11c1-464e-baf4-d9ac1c45f536<br>**Similarity:** 0.8429619168263194<br>**Text:** Second, the influence of peers and family on adolescents is a “complementary” view (Fukuoka and Hashimoto, 1997), that is, peer interaction transmits the effect of family environment on adolescents’ academic performance, compared with childhood, at the adolescent stage, parent education and parent-child interaction no longer meet their needs, but gradually extend to seeking support or help among peers, and peer interaction and family environment together influence adolescents’ growth. The family environment (parenting style, behavior supervision, and emotional intervention) plays a decisive role in the quality of peer interaction among adolescents; for example, parents supervise their children’s home time, places to go out, friend interactions, and homework completion, which would increase children’s exposure to peers with positive learning behaviors (Deutsch et al., 2012; DeAnna, 2016), which indicates that parent–child communication and parental educational involvement influence children’s interpersonal interactions. At the same time, the peer network structure, friend quality, and personality orientation also affect students’ academic achievement (Berthelon et al., 2019; Golsteyn et al., 2021). Based on the available research, a more superior family environment may have a positive effect on students’ academic achievement by increasing their peer interaction quality.\n",
       "Moderating effect of educational expectation gap\n",
       "Educational expectation is based on one’s cognitive abil...<br>"
      ],
      "text/plain": [
       "<IPython.core.display.Markdown object>"
      ]
     },
     "metadata": {},
     "output_type": "display_data"
    },
    {
     "name": "stdout",
     "output_type": "stream",
     "text": [
      "Parents can significantly influence a child's academic performance and grades in several ways. They can cultivate their child's information literacy, improve math and reading scores, and directly stimulate cognitive development by communicating with their children, visiting museums, or recording daily activities. Family socioeconomic status (SES), related developmental resources such as parental support, expectations, and reading resources, and students’ individual reading motivation also affect adolescents’ learning outcomes. Parental involvement in education, supervision of their children's activities, and emotional intervention can also play a decisive role in the quality of peer interaction among adolescents, which in turn influences students' academic achievement. Furthermore, parents' educational expectations for their children can impact their academic performance. If these expectations are moderate and align with the child's self-expectations, it can be conducive to the child's academic achievement. However, if parents' expectations are much higher than their children's self-expectations, it can lead to stress and harm academic achievement.\n"
     ]
    }
   ],
   "source": [
    "base_retriever = index.as_retriever(similarity_top_k=5)\n",
    "retrievals = base_retriever.retrieve(query)\n",
    "for n in retrievals:\n",
    "    if (not n.text.__contains__(\"http\")):\n",
    "        display_source_node(n, source_length=1500)\n",
    "query_engine_base = RetrieverQueryEngine.from_args(base_retriever, llm=gpt4)\n",
    "response = query_engine_base.query(query)\n",
    "print(str(response))"
   ]
  }
 ],
 "metadata": {
  "kernelspec": {
   "display_name": "Python 3",
   "language": "python",
   "name": "python3"
  },
  "language_info": {
   "codemirror_mode": {
    "name": "ipython",
    "version": 3
   },
   "file_extension": ".py",
   "mimetype": "text/x-python",
   "name": "python",
   "nbconvert_exporter": "python",
   "pygments_lexer": "ipython3",
   "version": "3.9.9"
  }
 },
 "nbformat": 4,
 "nbformat_minor": 2
}
