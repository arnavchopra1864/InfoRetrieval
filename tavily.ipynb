{
 "cells": [
  {
   "cell_type": "code",
   "execution_count": 65,
   "metadata": {},
   "outputs": [],
   "source": [
    "## Getting content from tavily APIs\n",
    "\n",
    "query = \"What are the effects of parental involvement on academic performance?\"\n",
    "#query = \"How can a father and mother influence a child's performance and grades in school?\"\n",
    "\n",
    "from tavily import TavilyClient\n",
    "import shutil\n",
    "import os\n",
    "\n",
    "tavily = TavilyClient(api_key=os.getenv('TAVILY_API_KEY'))\n",
    "\n",
    "response = tavily.search(query=query, \n",
    "                         search_depth=\"advanced\", \n",
    "                         include_raw_content=True,\n",
    "                         max_results=5)"
   ]
  },
  {
   "cell_type": "code",
   "execution_count": 66,
   "metadata": {},
   "outputs": [],
   "source": [
    "if os.path.exists('tavily_data'):\n",
    "    shutil.rmtree('tavily_data')\n",
    "    os.makedirs('tavily_data')\n",
    "else:\n",
    "    os.makedirs('tavily_data')\n",
    "\n",
    "for count, result in enumerate(response['results']):\n",
    "    f = open(\"tavily_data/demofile{}.txt\".format(count), \"a\", encoding=\"utf-8\")\n",
    "    f.truncate(0)\n",
    "    f.write(result['raw_content'])\n",
    "    f.close()"
   ]
  },
  {
   "cell_type": "code",
   "execution_count": 40,
   "metadata": {},
   "outputs": [],
   "source": [
    "## querying AI model\n",
    "\n",
    "from pathlib import Path\n",
    "from llama_index.core import (\n",
    "    VectorStoreIndex,\n",
    "    SimpleDirectoryReader,\n",
    ")\n",
    "from llama_index.llms.openai import OpenAI\n",
    "from llama_index.embeddings.openai import OpenAIEmbedding\n",
    "from typing import List, Optional\n",
    "from llama_index.llms.huggingface import (\n",
    "    HuggingFaceInferenceAPI,\n",
    "    HuggingFaceLLM,\n",
    ")\n",
    "from llama_index.embeddings.huggingface import HuggingFaceEmbedding\n",
    "from pydantic import BaseModel\n",
    "from llama_index.core.node_parser import SentenceSplitter\n",
    "from llama_index.core.node_parser import SentenceWindowNodeParser\n",
    "from llama_index.core.schema import IndexNode\n",
    "from llama_index.core.embeddings import resolve_embed_model\n",
    "from llama_index.core.response.notebook_utils import display_source_node\n",
    "from llama_index.core.query_engine import RetrieverQueryEngine\n",
    "from llama_index.core.postprocessor import MetadataReplacementPostProcessor"
   ]
  },
  {
   "cell_type": "code",
   "execution_count": 115,
   "metadata": {},
   "outputs": [],
   "source": [
    "from llama_index.core import Settings\n",
    "from llama_index.core import set_global_tokenizer\n",
    "\n",
    "\n",
    "HF_TOKEN = os.getenv(\"HUGGING_FACE_TOKEN\")\n",
    "\n",
    "Settings.chunk_size = 256\n",
    "gpt4 = OpenAI(model=\"gpt-4\", api_key=os.environ['OPENAI_API_KEY'])\n",
    "Settings.llm = gpt4\n",
    "\n",
    "# set the embed model\n",
    "Settings.embed_model = HuggingFaceEmbedding(\n",
    "    model_name=\"BAAI/bge-base-en-v1.5\"\n",
    ")\n",
    "#https://huggingface.co/BAAI/bge-base-en-v1.5?library=sentence-transformers"
   ]
  },
  {
   "cell_type": "code",
   "execution_count": 67,
   "metadata": {},
   "outputs": [],
   "source": [
    "documents = SimpleDirectoryReader(\"tavily_data\").load_data()\n",
    "index = VectorStoreIndex.from_documents(documents)"
   ]
  },
  {
   "cell_type": "code",
   "execution_count": 70,
   "metadata": {},
   "outputs": [
    {
     "data": {
      "text/markdown": [
       "**Node ID:** 89d54cba-e706-4dd9-9342-d1e1e88be26f<br>**Similarity:** 0.7436160425426247<br>**Text:** While parent involvement has been found to be related to increased academic performance, the specific mechanisms through which parent involvement exerts its influence on a child's academic performance are not yet fully understood (Hill & Craft, 2003). Understanding these mechanisms would inform further research and policy initiatives and may lead to the development of more effective intervention programs designed to increase children's academic performance.\n",
       "Models of Parent Involvement\n",
       "Parent involvement has been defined and measured in multiple ways, including activities that parents engage in at home and at school and positive attitudes parents have towards their child's education, school, and teacher (Epstein, 1996; Grolnick & Slowiaczek, 1994; Kohl, Lengua, & McMahon, 2000). The distinction between the activities parents partake in and the attitude parents have towards education was highlighted by several recent studies. Several studies found that increased frequency of activities was associated with higher levels of child misbehavior in the classroom (Izzo, Weissberg, Kasprow, & Fendrich, 1999), whereas positive attitudes towards education and school were associated with the child's increased academic performance (Rimm-Kaufman, Pianta, Cox, & Bradley, 2003).<br>"
      ],
      "text/plain": [
       "<IPython.core.display.Markdown object>"
      ]
     },
     "metadata": {},
     "output_type": "display_data"
    },
    {
     "data": {
      "text/markdown": [
       "**Node ID:** f0f434a5-7e96-444e-934b-c43c07954eeb<br>**Similarity:** 0.7422621861921793<br>**Text:** Parent involvement and student academic performance: A multiple mediational analysis\n",
       "David R. Topor\n",
       "aThe Warren Alpert Medical School of Brown University/Bradley Hospital, 1011 Veterans Memorial Parkway, East Providence, RI 02915\n",
       "Susan P. Keane\n",
       "bThe University of North Carolina at Greensboro, Department of Psychology, P.O. Box 26170, Greensboro, NC 27402-6164\n",
       "Terri L. Shelton\n",
       "bThe University of North Carolina at Greensboro, Department of Psychology, P.O. Box 26170, Greensboro, NC 27402-6164\n",
       "Susan D. Calkins\n",
       "bThe University of North Carolina at Greensboro, Department of Psychology, P.O. Box 26170, Greensboro, NC 27402-6164\n",
       "Abstract\n",
       "Parent involvement in a child's education is consistently found to be positively associated with a child's academic performance. However, there has been little investigation of the mechanisms that explain this association.<br>"
      ],
      "text/plain": [
       "<IPython.core.display.Markdown object>"
      ]
     },
     "metadata": {},
     "output_type": "display_data"
    },
    {
     "data": {
      "text/markdown": [
       "**Node ID:** efb36c28-10ef-469f-8a7d-99bca6585ea9<br>**Similarity:** 0.740986523480593<br>**Text:** Preview improvements coming to the PMC website in October 2024.\n",
       "Learn More or\n",
       "Try it out now.\n",
       "Parent involvement and student academic performance: A multiple mediational analysis\n",
       "David R. Topor\n",
       "aThe Warren Alpert Medical School of Brown University/Bradley Hospital, 1011 Veterans Memorial Parkway, East Providence, RI 02915\n",
       "Susan P. Keane\n",
       "bThe University of North Carolina at Greensboro, Department of Psychology, P.O. Box 26170, Greensboro, NC 27402-6164\n",
       "Terri L. Shelton\n",
       "bThe University of North Carolina at Greensboro, Department of Psychology, P.O. Box 26170, Greensboro, NC 27402-6164\n",
       "Susan D. Calkins\n",
       "bThe University of North Carolina at Greensboro, Department of Psychology, P.O. Box 26170, Greensboro, NC 27402-6164\n",
       "Abstract\n",
       "Parent involvement in a child's education is consistently found to be positively associated with a child's academic performance.<br>"
      ],
      "text/plain": [
       "<IPython.core.display.Markdown object>"
      ]
     },
     "metadata": {},
     "output_type": "display_data"
    },
    {
     "data": {
      "text/markdown": [
       "**Node ID:** 146c6ee5-eb96-443d-9664-92073ab88322<br>**Similarity:** 0.7406279574503253<br>**Text:** By examining specific parenting practices that are amenable to change, such as parent involvement, and the mechanisms by which these practices influence academic performance, programs may be developed to increase a child's academic performance. While parent involvement has been found to be related to increased academic performance, the specific mechanisms through which parent involvement exerts its influence on a child's academic performance are not yet fully understood (Hill & Craft, 2003). Understanding these mechanisms would inform further research and policy initiatives and may lead to the development of more effective intervention programs designed to increase children's academic performance.\n",
       "Models of Parent Involvement\n",
       "Parent involvement has been defined and measured in multiple ways, including activities that parents engage in at home and at school and positive attitudes parents have towards their child's education, school, and teacher (Epstein, 1996; Grolnick & Slowiaczek, 1994; Kohl, Lengua, & McMahon, 2000). The distinction between the activities parents partake in and the attitude parents have towards education was highlighted by several recent studies.<br>"
      ],
      "text/plain": [
       "<IPython.core.display.Markdown object>"
      ]
     },
     "metadata": {},
     "output_type": "display_data"
    },
    {
     "data": {
      "text/markdown": [
       "**Node ID:** cbefe78e-d048-42f9-a1d7-ac5edcb261c1<br>**Similarity:** 0.7399683468498713<br>**Text:** Specifically, a close student-teacher relationship is an important predictor of a child's academic performance (Birch & Ladd, 1997; Hamre & Pianta, 2001). Previous research has also found that parent involvement in a child's education positively influences the nature of the student-teacher relationship (Hill & Craft, 2003; Stevenson & Baker, 1987). Therefore, the student-teacher relationship was examined for its ability to explain the relation between parent involvement and a child's academic performance.\n",
       "The Present Study\n",
       "Parent involvement is one factor that has been consistently related to a child's increased academic performance (Hara & Burke, 1998; Hill & Craft, 2003; Marcon, 1999; Stevenson & Baker, 1987). While this relation between parent involvement and a child's academic performance is well established, studies have yet to examine how parent involvement increases a child's academic performance. The goal of the present study was to test two variables that may mediate, or explain how, parent involvement is related to a child's academic performance.<br>"
      ],
      "text/plain": [
       "<IPython.core.display.Markdown object>"
      ]
     },
     "metadata": {},
     "output_type": "display_data"
    }
   ],
   "source": [
    "base_retriever = index.as_retriever(similarity_top_k=5)\n",
    "retrievals = base_retriever.retrieve(query)\n",
    "for n in retrievals:\n",
    "    #if (not n.text.__contains__(\"http\")):\n",
    "        display_source_node(n, source_length=1500)\n",
    "\n",
    "\n"
   ]
  },
  {
   "cell_type": "code",
   "execution_count": 71,
   "metadata": {},
   "outputs": [
    {
     "name": "stdout",
     "output_type": "stream",
     "text": [
      "Parental involvement in a child's education has been consistently found to be positively associated with the child's academic performance. This involvement can be defined in multiple ways, including activities that parents engage in at home and at school, as well as the positive attitudes parents have towards their child's education, school, and teacher. Some studies have found that increased frequency of parental activities is associated with higher levels of child misbehavior in the classroom, while positive attitudes towards education and school are associated with increased academic performance. Furthermore, parent involvement can positively influence the nature of the student-teacher relationship, which is an important predictor of a child's academic performance. However, the specific mechanisms through which parent involvement exerts its influence on a child's academic performance are not yet fully understood."
     ]
    }
   ],
   "source": [
    "query_engine = RetrieverQueryEngine.from_args(base_retriever, streaming=True) \n",
    "response = query_engine.query(query)\n",
    "for text in response.response_gen:\n",
    "    response.print_response_stream()"
   ]
  },
  {
   "cell_type": "code",
   "execution_count": 24,
   "metadata": {},
   "outputs": [],
   "source": [
    "node_parser = SentenceWindowNodeParser.from_defaults(\n",
    "    window_size=3,\n",
    "    window_metadata_key=\"window\",\n",
    "    original_text_metadata_key=\"original_text\",\n",
    ")\n",
    "text_splitter = SentenceSplitter()\n",
    "embed_model = OpenAIEmbedding()\n",
    "\n",
    "Settings.embed_model = embed_model\n",
    "Settings.text_splitter = text_splitter\n",
    "\n",
    "nodes = node_parser.get_nodes_from_documents(documents)\n",
    "base_nodes = text_splitter.get_nodes_from_documents(documents)\n",
    "\n",
    "sentence_index = VectorStoreIndex(nodes)\n",
    "base_index = VectorStoreIndex(base_nodes)\n"
   ]
  },
  {
   "cell_type": "code",
   "execution_count": 8,
   "metadata": {},
   "outputs": [
    {
     "ename": "NameError",
     "evalue": "name 'sentence_index' is not defined",
     "output_type": "error",
     "traceback": [
      "\u001b[0;31m---------------------------------------------------------------------------\u001b[0m",
      "\u001b[0;31mNameError\u001b[0m                                 Traceback (most recent call last)",
      "Cell \u001b[0;32mIn[8], line 1\u001b[0m\n\u001b[0;32m----> 1\u001b[0m query_engine \u001b[38;5;241m=\u001b[39m \u001b[43msentence_index\u001b[49m\u001b[38;5;241m.\u001b[39mas_query_engine(\n\u001b[1;32m      2\u001b[0m     similarity_top_k\u001b[38;5;241m=\u001b[39m\u001b[38;5;241m2\u001b[39m,\n\u001b[1;32m      3\u001b[0m     node_postprocessors\u001b[38;5;241m=\u001b[39m[\n\u001b[1;32m      4\u001b[0m         MetadataReplacementPostProcessor(target_metadata_key\u001b[38;5;241m=\u001b[39m\u001b[38;5;124m\"\u001b[39m\u001b[38;5;124mwindow\u001b[39m\u001b[38;5;124m\"\u001b[39m)\n\u001b[1;32m      5\u001b[0m     ],\n\u001b[1;32m      6\u001b[0m     streaming\u001b[38;5;241m=\u001b[39m \u001b[38;5;28;01mTrue\u001b[39;00m\n\u001b[1;32m      7\u001b[0m )\n\u001b[1;32m      8\u001b[0m window_response \u001b[38;5;241m=\u001b[39m query_engine\u001b[38;5;241m.\u001b[39mquery(query)\n\u001b[1;32m     10\u001b[0m \u001b[38;5;28;01mfor\u001b[39;00m window \u001b[38;5;129;01min\u001b[39;00m window_response\u001b[38;5;241m.\u001b[39msource_nodes:\n",
      "\u001b[0;31mNameError\u001b[0m: name 'sentence_index' is not defined"
     ]
    }
   ],
   "source": [
    "query_engine = sentence_index.as_query_engine(\n",
    "    similarity_top_k=2,\n",
    "    node_postprocessors=[\n",
    "        MetadataReplacementPostProcessor(target_metadata_key=\"window\")\n",
    "    ],\n",
    ")\n",
    "window_response = query_engine.query(query)\n",
    "\n",
    "for window in window_response.source_nodes:\n",
    "    print(\"Window: \")\n",
    "    print(window.node.metadata[\"window\"])\n",
    "    print(\"Original Sentence: \")\n",
    "    print(window.node.metadata[\"original_text\"])\n",
    "    print()\n",
    "\n",
    "print(window_response)\n"
   ]
  }
 ],
 "metadata": {
  "kernelspec": {
   "display_name": "Python 3",
   "language": "python",
   "name": "python3"
  },
  "language_info": {
   "codemirror_mode": {
    "name": "ipython",
    "version": 3
   },
   "file_extension": ".py",
   "mimetype": "text/x-python",
   "name": "python",
   "nbconvert_exporter": "python",
   "pygments_lexer": "ipython3",
   "version": "3.9.9"
  }
 },
 "nbformat": 4,
 "nbformat_minor": 2
}
