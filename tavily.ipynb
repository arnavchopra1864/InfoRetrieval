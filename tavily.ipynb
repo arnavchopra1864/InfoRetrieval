{
 "cells": [
  {
   "cell_type": "code",
   "execution_count": 1,
   "metadata": {},
   "outputs": [],
   "source": [
    "## Getting content from tavily APIs\n",
    "\n",
    "user_query = \"What are the effects of parental involvement on academic performance?\"\n",
    "#user_query = \"How can a father and mother influence a child's performance and grades in school?\"\n",
    "\n",
    "from tavily import TavilyClient\n",
    "import shutil\n",
    "import os\n",
    "\n",
    "tavily = TavilyClient(api_key=os.getenv('TAVILY_API_KEY'))\n",
    "\n",
    "response = tavily.search(query=user_query, \n",
    "                         search_depth=\"advanced\", \n",
    "                         include_raw_content=True,\n",
    "                         max_results=5)"
   ]
  },
  {
   "cell_type": "code",
   "execution_count": 2,
   "metadata": {},
   "outputs": [],
   "source": [
    "if os.path.exists('tavily_data'):\n",
    "    shutil.rmtree('tavily_data')\n",
    "    os.makedirs('tavily_data')\n",
    "else:\n",
    "    os.makedirs('tavily_data')\n",
    "\n",
    "for count, result in enumerate(response['results']):\n",
    "    f = open(\"tavily_data/demofile{}.txt\".format(count), \"a\", encoding=\"utf-8\")\n",
    "    f.truncate(0)\n",
    "    f.write(result['raw_content'])\n",
    "    f.close()"
   ]
  },
  {
   "cell_type": "code",
   "execution_count": 13,
   "metadata": {},
   "outputs": [],
   "source": [
    "## querying AI model\n",
    "\n",
    "from pathlib import Path\n",
    "from llama_index.core import (\n",
    "    VectorStoreIndex,\n",
    "    SimpleDirectoryReader,\n",
    ")\n",
    "from llama_index.llms.openai import OpenAI\n",
    "from llama_index.embeddings.openai import OpenAIEmbedding\n",
    "from typing import List, Optional\n",
    "from llama_index.llms.huggingface import (\n",
    "    HuggingFaceInferenceAPI,\n",
    "    HuggingFaceLLM,\n",
    ")\n",
    "from llama_index.embeddings.huggingface import HuggingFaceEmbedding\n",
    "from pydantic import BaseModel\n",
    "from llama_index.core.node_parser import SentenceSplitter\n",
    "from llama_index.core.node_parser import SentenceWindowNodeParser\n",
    "from llama_index.core.schema import IndexNode\n",
    "from llama_index.core.embeddings import resolve_embed_model\n",
    "from llama_index.core.response.notebook_utils import display_source_node\n",
    "from llama_index.core.query_engine import RetrieverQueryEngine\n",
    "from llama_index.core.postprocessor import MetadataReplacementPostProcessor"
   ]
  },
  {
   "cell_type": "code",
   "execution_count": 14,
   "metadata": {},
   "outputs": [],
   "source": [
    "from llama_index.core import Settings\n",
    "Settings.llm = OpenAI(model=\"gpt-4\", api_key=os.getenv(\"OPENAI_API_KEY\"))"
   ]
  },
  {
   "cell_type": "code",
   "execution_count": 5,
   "metadata": {},
   "outputs": [],
   "source": [
    "documents = SimpleDirectoryReader(\"tavily_data\").load_data()\n",
    "index = VectorStoreIndex.from_documents(documents)"
   ]
  },
  {
   "cell_type": "code",
   "execution_count": 15,
   "metadata": {},
   "outputs": [],
   "source": [
    "# HF_TOKEN: Optional[str] = os.getenv(\"HUGGING_FACE_TOKEN\")\n",
    "gpt4 = OpenAI(model=\"gpt-4\", api_key=os.environ['OPENAI_API_KEY'])\n",
    "query = user_query"
   ]
  },
  {
   "cell_type": "code",
   "execution_count": 16,
   "metadata": {},
   "outputs": [],
   "source": [
    "node_parser = SentenceWindowNodeParser.from_defaults(\n",
    "    window_size=3,\n",
    "    window_metadata_key=\"window\",\n",
    "    original_text_metadata_key=\"original_text\",\n",
    ")\n",
    "text_splitter = SentenceSplitter()\n",
    "embed_model = OpenAIEmbedding()\n",
    "\n",
    "Settings.embed_model = embed_model\n",
    "Settings.text_splitter = text_splitter\n",
    "\n",
    "nodes = node_parser.get_nodes_from_documents(documents)\n",
    "base_nodes = text_splitter.get_nodes_from_documents(documents)\n",
    "\n",
    "sentence_index = VectorStoreIndex(nodes)\n",
    "base_index = VectorStoreIndex(base_nodes)\n"
   ]
  },
  {
   "cell_type": "code",
   "execution_count": 17,
   "metadata": {},
   "outputs": [
    {
     "name": "stdout",
     "output_type": "stream",
     "text": [
      "Window: \n",
      "Future policy should focus on developing and promoting school programs that enable parents to increase a child's perception of cognitive competence, and fund future research to better understand the mechanisms by which this occurs.  School administrators should consider ways to improve the student-teacher relationship, given its important relation with the child's academic performance.  For instance, school administrators may set aside time in the curriculum for team building exercises between students, teachers, and parents.  Taken together, the present study identified mechanisms by which parent involvement is related to a child academic performance, over and above the impact of the child's IQ, and it is the hope that these findings lead to further research and new policies to increase a child's academic performance.\n",
      " Acknowledgments\n",
      "We thank the parents and children who have repeatedly given their time and effort to participate in this research.  Additionally, we are grateful to the entire RIGHT Track staff for their help in data collection, entry, and coding, particularly Louise Berdan, Kathryn Degnan, Elizabeth Shuey, Caitlin Stone, Paulo Graziano, Rachael Reavis, Robin Howse, and Jeffrey Gredlein.  This research was supported by a National Institute of Mental Health (NIMH) Behavioral Science Track Award for Rapid Transition (MH 55625), an NIMH FIRST Award (MH 55584) and an NIMH K-award (MH 74077) to Susan D. Calkins and by NIMH Grant (MH 58144A) awarded to Susan D. Calkins, Susan P. Keane, and Marion O'Brien.\n",
      "\n",
      "Original Sentence: \n",
      "Taken together, the present study identified mechanisms by which parent involvement is related to a child academic performance, over and above the impact of the child's IQ, and it is the hope that these findings lead to further research and new policies to increase a child's academic performance.\n",
      "\n",
      "\n",
      "Window: \n",
      "As shown in Table 3, parent involvement was no longer a significant predictor of a child's classroom academic performance when the student-teacher relationship was accounted for in the analyses (β = .07, p = .36).  The Sobel test further confirmed the effect of the mediator (Test statistic = 1.90, p = .05).\n",
      " Table 3\n",
      "Regression Analyses Testing Perceived Cognitive Competence and the Student-Teacher Relationship as Multiple Mediators of the Relation Between Parent Involvement and Child's Academic Performance\n",
      "*p<.05\n",
      "**p< .01\n",
      "Discussion\n",
      "The purpose of the present study was to examine the ability of the child's perceived cognitive competence and the quality of the student-teacher relationship to explain the relation between parent involvement and the child's academic performance.  Findings from the present study demonstrated that increased parent involvement, defined as the teacher's perception of the positive attitude parents have toward their child's education, teacher, and school, was significantly related to increased academic performance, measured by both a standardized achievement test and teacher ratings of the child's classroom academic performance.  Further, parent involvement was significantly related to academic performance above and beyond the impact of the child's intelligence (IQ), a variable not accounted for in previous research.\n",
      " Findings from the present study demonstrated that increased parent involvement is significantly related to a child's increased perception of cognitive competence.  This finding is consistent with previous studies (Gonzalez-DeHass, Willems, & Holbein, 2005; Grolnick, Ryan, & Deci, 1991). \n",
      "Original Sentence: \n",
      "Findings from the present study demonstrated that increased parent involvement, defined as the teacher's perception of the positive attitude parents have toward their child's education, teacher, and school, was significantly related to increased academic performance, measured by both a standardized achievement test and teacher ratings of the child's classroom academic performance. \n",
      "\n",
      "Parental involvement has been found to significantly impact a child's academic performance. This involvement, defined as the teacher's perception of the positive attitude parents have towards their child's education, teacher, and school, is significantly related to increased academic performance. This is measured by both a standardized achievement test and teacher ratings of the child's classroom academic performance. Additionally, parental involvement is significantly related to academic performance above and beyond the impact of the child's intelligence (IQ). Increased parental involvement is also significantly related to a child's increased perception of cognitive competence. However, it's important to note that parental involvement was no longer a significant predictor of a child's classroom academic performance when the student-teacher relationship was accounted for in the analyses.\n"
     ]
    }
   ],
   "source": [
    "query_engine = sentence_index.as_query_engine(\n",
    "    similarity_top_k=2,\n",
    "    node_postprocessors=[\n",
    "        MetadataReplacementPostProcessor(target_metadata_key=\"window\")\n",
    "    ],\n",
    ")\n",
    "window_response = query_engine.query(query)\n",
    "\n",
    "for window in window_response.source_nodes:\n",
    "    print(\"Window: \")\n",
    "    print(window.node.metadata[\"window\"])\n",
    "    print(\"Original Sentence: \")\n",
    "    print(window.node.metadata[\"original_text\"])\n",
    "    print()\n",
    "\n",
    "print(window_response)\n"
   ]
  },
  {
   "cell_type": "code",
   "execution_count": 8,
   "metadata": {},
   "outputs": [
    {
     "data": {
      "text/markdown": [
       "**Node ID:** 42d14a4e-b3af-4fa9-80af-dfb165064692<br>**Similarity:** 0.8463510220273155<br>**Text:** Parents who communicate with their children, visit museums, or record daily activities can cultivate children’s information literacy, improve math and reading scores, and directly stimulate cognitive development (Sibley and Dearing, 2014; Choe, 2020). Moreover, family socioeconomic status (SES), related developmental resources (including parental support, expectations, and reading resources), and students’ individual reading motivation (including reading engagement and reading confidence) also affect adolescents’ learning outcomes (including academic achievement, school grades, and reading competence) (Mudrak et al., 2020).\n",
       "With the increase in communication time between adolescent students and their peers, they gradually break away from their families to participate in peer interaction; peers have become another major field affecting their development (Criss et al., 2016). The interpersonal relationship established by teenagers in the school field plays an essential role in their behavior development, cognitive ability, and academic performance, especially adolescents’ academic engagement or learning performance is influenced by friendship quality (Sebanc et al., 2016), friends’ gain and loss (Lessard and Juvonen, 2018), and peer personality (Golsteyn et al., 2021) factors in peer groups. Reviewing the research on the influence of family and important others on students’ achievement, there are two main points of view: On the one hand, according to American psychologist Ha...<br>"
      ],
      "text/plain": [
       "<IPython.core.display.Markdown object>"
      ]
     },
     "metadata": {},
     "output_type": "display_data"
    },
    {
     "data": {
      "text/markdown": [
       "**Node ID:** ab61e1b0-11c1-464e-baf4-d9ac1c45f536<br>**Similarity:** 0.8429619168263194<br>**Text:** Second, the influence of peers and family on adolescents is a “complementary” view (Fukuoka and Hashimoto, 1997), that is, peer interaction transmits the effect of family environment on adolescents’ academic performance, compared with childhood, at the adolescent stage, parent education and parent-child interaction no longer meet their needs, but gradually extend to seeking support or help among peers, and peer interaction and family environment together influence adolescents’ growth. The family environment (parenting style, behavior supervision, and emotional intervention) plays a decisive role in the quality of peer interaction among adolescents; for example, parents supervise their children’s home time, places to go out, friend interactions, and homework completion, which would increase children’s exposure to peers with positive learning behaviors (Deutsch et al., 2012; DeAnna, 2016), which indicates that parent–child communication and parental educational involvement influence children’s interpersonal interactions. At the same time, the peer network structure, friend quality, and personality orientation also affect students’ academic achievement (Berthelon et al., 2019; Golsteyn et al., 2021). Based on the available research, a more superior family environment may have a positive effect on students’ academic achievement by increasing their peer interaction quality.\n",
       "Moderating effect of educational expectation gap\n",
       "Educational expectation is based on one’s cognitive abil...<br>"
      ],
      "text/plain": [
       "<IPython.core.display.Markdown object>"
      ]
     },
     "metadata": {},
     "output_type": "display_data"
    },
    {
     "name": "stdout",
     "output_type": "stream",
     "text": [
      "Parents can significantly influence a child's academic performance and grades in several ways. They can cultivate their child's information literacy, improve math and reading scores, and directly stimulate cognitive development by communicating with their children, visiting museums, or recording daily activities. Family socioeconomic status (SES), related developmental resources such as parental support, expectations, and reading resources, and students’ individual reading motivation also affect adolescents’ learning outcomes. Parental involvement in education, supervision of their children's activities, and emotional intervention can also play a decisive role in the quality of peer interaction among adolescents, which in turn influences students' academic achievement. Furthermore, parents' educational expectations for their children can impact their academic performance. If these expectations are moderate and align with the child's self-expectations, it can be conducive to the child's academic achievement. However, if parents' expectations are much higher than their children's self-expectations, it can lead to stress and harm academic achievement.\n"
     ]
    }
   ],
   "source": [
    "base_retriever = index.as_retriever(similarity_top_k=5)\n",
    "retrievals = base_retriever.retrieve(query)\n",
    "for n in retrievals:\n",
    "    if (not n.text.__contains__(\"http\")):\n",
    "        display_source_node(n, source_length=1500)\n",
    "query_engine_base = RetrieverQueryEngine.from_args(base_retriever, llm=gpt4)\n",
    "response = query_engine_base.query(query)\n",
    "print(str(response))"
   ]
  }
 ],
 "metadata": {
  "kernelspec": {
   "display_name": "Python 3",
   "language": "python",
   "name": "python3"
  },
  "language_info": {
   "codemirror_mode": {
    "name": "ipython",
    "version": 3
   },
   "file_extension": ".py",
   "mimetype": "text/x-python",
   "name": "python",
   "nbconvert_exporter": "python",
   "pygments_lexer": "ipython3",
   "version": "3.9.9"
  }
 },
 "nbformat": 4,
 "nbformat_minor": 2
}
