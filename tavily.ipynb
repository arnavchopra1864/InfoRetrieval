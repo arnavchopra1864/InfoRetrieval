{
 "cells": [
  {
   "cell_type": "code",
   "execution_count": 1,
   "metadata": {},
   "outputs": [],
   "source": [
    "## Getting content from tavily APIs\n",
    "\n",
    "query = \"What are the effects of parental involvement on academic performance?\"\n",
    "#query = \"How can a father and mother influence a child's performance and grades in school?\"\n",
    "\n",
    "from tavily import TavilyClient\n",
    "import shutil\n",
    "import os\n",
    "\n",
    "# tavily = TavilyClient(api_key=os.getenv('TAVILY_API_KEY'))\n",
    "tavily = TavilyClient(api_key='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')\n",
    "\n",
    "response = tavily.search(query=query, \n",
    "                         search_depth=\"advanced\", \n",
    "                         include_raw_content=True,\n",
    "                         max_results=5)\n",
    "\n",
    "# response = tavily.get_search_context(query=user_query, search_depth=\"advanced\", max_tokens=1500)\n",
    "# response2 = tavily.qna_search(query=user_query)"
   ]
  },
  {
   "cell_type": "code",
   "execution_count": 2,
   "metadata": {},
   "outputs": [],
   "source": [
    "# if os.path.exists('tavily_data'):\n",
    "#     shutil.rmtree('tavily_data')\n",
    "#     os.makedirs('tavily_data')\n",
    "# else:\n",
    "#     os.makedirs('tavily_data')\n",
    "\n",
    "meta_map = {}\n",
    "\n",
    "for count, result in enumerate(response['results']):\n",
    "    f = open(\"tavily_data/file{}.txt\".format(count), \"a\", encoding=\"utf-8\")\n",
    "    meta_map[count] = {'title':result['title'], 'url':result['url']}\n",
    "    f.truncate(0)\n",
    "    f.write(result['raw_content'])\n",
    "    f.close()"
   ]
  },
  {
   "cell_type": "code",
   "execution_count": 3,
   "metadata": {},
   "outputs": [
    {
     "name": "stderr",
     "output_type": "stream",
     "text": [
      "/opt/homebrew/lib/python3.9/site-packages/tqdm/auto.py:21: TqdmWarning: IProgress not found. Please update jupyter and ipywidgets. See https://ipywidgets.readthedocs.io/en/stable/user_install.html\n",
      "  from .autonotebook import tqdm as notebook_tqdm\n"
     ]
    }
   ],
   "source": [
    "## querying AI model\n",
    "\n",
    "from pathlib import Path\n",
    "from llama_index.core import (\n",
    "    VectorStoreIndex,\n",
    "    SimpleDirectoryReader,\n",
    ")\n",
    "from llama_index.llms.openai import OpenAI\n",
    "from llama_index.embeddings.openai import OpenAIEmbedding\n",
    "from typing import List, Optional\n",
    "from llama_index.llms.huggingface import (\n",
    "    HuggingFaceInferenceAPI,\n",
    "    HuggingFaceLLM,\n",
    ")\n",
    "from llama_index.embeddings.huggingface import HuggingFaceEmbedding\n",
    "from pydantic import BaseModel\n",
    "from llama_index.core.node_parser import SentenceSplitter\n",
    "from llama_index.core.node_parser import SentenceWindowNodeParser\n",
    "from llama_index.core.schema import IndexNode\n",
    "from llama_index.core.embeddings import resolve_embed_model\n",
    "from llama_index.core.response.notebook_utils import display_source_node\n",
    "from llama_index.core.query_engine import RetrieverQueryEngine\n",
    "from llama_index.core.postprocessor import MetadataReplacementPostProcessor\n",
    "from llama_index.core.chat_engine import CondenseQuestionChatEngine"
   ]
  },
  {
   "cell_type": "code",
   "execution_count": 4,
   "metadata": {},
   "outputs": [],
   "source": [
    "from llama_index.core import Settings\n",
    "from llama_index.core import set_global_tokenizer\n",
    "\n",
    "\n",
    "HF_TOKEN = os.getenv(\"HUGGING_FACE_TOKEN\")\n",
    "\n",
    "Settings.chunk_size = 256\n",
    "gpt4 = OpenAI(model=\"gpt-4\", api_key=os.environ['OPENAI_API_KEY'])\n",
    "gpt = OpenAI(model=\"gpt-3.5-turbo\")\n",
    "Settings.llm = gpt\n",
    "\n",
    "#set the embed model\n",
    "Settings.embed_model = HuggingFaceEmbedding(\n",
    "    model_name=\"BAAI/bge-small-en-v1.5\"\n",
    ")\n",
    "#Settings.embed_model = OpenAIEmbedding()\n",
    "#https://huggingface.co/BAAI/bge-small-en-v1.5?library=sentence-transformers"
   ]
  },
  {
   "cell_type": "code",
   "execution_count": 6,
   "metadata": {},
   "outputs": [],
   "source": [
    "documents = SimpleDirectoryReader(\"tavily_data\").load_data()\n",
    "index = VectorStoreIndex.from_documents(documents)"
   ]
  },
  {
   "cell_type": "code",
   "execution_count": 7,
   "metadata": {},
   "outputs": [
    {
     "data": {
      "text/markdown": [
       "**Node ID:** 6f8ad8f4-aa56-489c-b66c-81710a617d9b<br>**Similarity:** 0.895583089618943<br>**Text:** By examining specific parenting practices that are amenable to change, such as parent involvement, and the mechanisms by which these practices influence academic performance, programs may be developed to increase a child's academic performance. While parent involvement has been found to be related to increased academic performance, the specific mechanisms through which parent involvement exerts its influence on a child's academic performance are not yet fully understood (Hill & Craft, 2003). Understanding these mechanisms would inform further research and policy initiatives and may lead to the development of more effective intervention programs designed to increase children's academic performance.\n",
       "Models of Parent Involvement\n",
       "Parent involvement has been defined and measured in multiple ways, including activities that parents engage in at home and at school and positive attitudes parents have towards their child's education, school, and teacher (Epstein, 1996; Grolnick & Slowiaczek, 1994; Kohl, Lengua, & McMahon, 2000). The distinction between the activities parents partake in and the attitude parents have towards education was highlighted by several recent studies.<br>"
      ],
      "text/plain": [
       "<IPython.core.display.Markdown object>"
      ]
     },
     "metadata": {},
     "output_type": "display_data"
    },
    {
     "data": {
      "text/markdown": [
       "**Node ID:** 94ca789d-3f3a-4b51-8fee-eb318c707a6e<br>**Similarity:** 0.8857707416042999<br>**Text:** Therefore, it is important to examine factors that contribute to early academic success and that are amenable to change.\n",
       "Researchers have reported that parent-child interactions, specifically stimulating and responsive parenting practices, are important influences on a child's academic development (Christian, Morrison, & Bryant, 1998; Committee on Early Childhood Pedagogy, 2000). By examining specific parenting practices that are amenable to change, such as parent involvement, and the mechanisms by which these practices influence academic performance, programs may be developed to increase a child's academic performance. While parent involvement has been found to be related to increased academic performance, the specific mechanisms through which parent involvement exerts its influence on a child's academic performance are not yet fully understood (Hill & Craft, 2003). Understanding these mechanisms would inform further research and policy initiatives and may lead to the development of more effective intervention programs designed to increase children's academic performance.\n",
       "Models of Parent Involvement\n",
       "Parent involvement has been defined and measured in multiple ways, including activities that parents engage in at home and at school and positive attitudes parents have towards their child's education, school, and teacher (Epstein, 1996; Grolnick & Slowiaczek, 1994; Kohl, Lengua, & McMahon, 2000).<br>"
      ],
      "text/plain": [
       "<IPython.core.display.Markdown object>"
      ]
     },
     "metadata": {},
     "output_type": "display_data"
    },
    {
     "data": {
      "text/markdown": [
       "**Node ID:** 8d2dc076-f878-48eb-b177-2df9b50f93be<br>**Similarity:** 0.8823156343871914<br>**Text:** Further, parent involvement was significantly related to academic performance above and beyond the impact of the child's intelligence (IQ), a variable not accounted for in previous research.\n",
       "Findings from the present study demonstrated that increased parent involvement is significantly related to a child's increased perception of cognitive competence. This finding is consistent with previous studies (Gonzalez-DeHass, Willems, & Holbein, 2005; Grolnick, Ryan, & Deci, 1991). While outside the scope of the present study, it is conceivable that parent involvement may influence the child's perception of cognitive competence by means described by Bandura (1977). Findings demonstrated that increased parent involvement was significantly related to increased quality of the student-teacher relationship. Findings also demonstrated that increased perceived cognitive competence was related to higher achievement test scores and that the quality of the student-teacher relationship was significantly related to the child's academic performance, measured by both standardized achievement test scores and the child's classroom academic performance.<br>"
      ],
      "text/plain": [
       "<IPython.core.display.Markdown object>"
      ]
     },
     "metadata": {},
     "output_type": "display_data"
    },
    {
     "data": {
      "text/markdown": [
       "**Node ID:** 27ac7a53-aa5f-417f-991a-80aa3cac81ee<br>**Similarity:** 0.8802547576874705<br>**Text:** While parent involvement has been found to be related to increased academic performance, the specific mechanisms through which parent involvement exerts its influence on a child's academic performance are not yet fully understood (Hill & Craft, 2003). Understanding these mechanisms would inform further research and policy initiatives and may lead to the development of more effective intervention programs designed to increase children's academic performance.\n",
       "Models of Parent Involvement\n",
       "Parent involvement has been defined and measured in multiple ways, including activities that parents engage in at home and at school and positive attitudes parents have towards their child's education, school, and teacher (Epstein, 1996; Grolnick & Slowiaczek, 1994; Kohl, Lengua, & McMahon, 2000). The distinction between the activities parents partake in and the attitude parents have towards education was highlighted by several recent studies. Several studies found that increased frequency of activities was associated with higher levels of child misbehavior in the classroom (Izzo, Weissberg, Kasprow, & Fendrich, 1999), whereas positive attitudes towards education and school were associated with the child's increased academic performance (Rimm-Kaufman, Pianta, Cox, & Bradley, 2003).<br>"
      ],
      "text/plain": [
       "<IPython.core.display.Markdown object>"
      ]
     },
     "metadata": {},
     "output_type": "display_data"
    },
    {
     "data": {
      "text/markdown": [
       "**Node ID:** 109c3238-79cb-420a-be66-9f4e6b2f961f<br>**Similarity:** 0.8797144884821717<br>**Text:** Here are five takeaways from the research.\n",
       "1. Studies show more parental involvement leads to improved academic outcomes\n",
       "When parents are involved in their children’s schooling, students show higher academic achievement, school engagement, and motivation, according to a 2019 American Psychological Association review of 448 independent studies on parent involvement.\n",
       "A 2005 study from researchers at the Johns Hopkins University Center on School, Family and Community Partnerships, for example, showed that school practices encouraging families to support their child’s math learning at home led to higher percentages of students scoring at or above proficiency on standardized math tests.\n",
       "And research shows that parent involvement with reading activities has a positive impact on reading achievement, language comprehension, and expressive language skills, as well as students’ interest in reading, attitudes toward reading, and level of attention in the classroom, according to a research summary by the National Literacy Trust.<br>"
      ],
      "text/plain": [
       "<IPython.core.display.Markdown object>"
      ]
     },
     "metadata": {},
     "output_type": "display_data"
    }
   ],
   "source": [
    "base_retriever = index.as_retriever(similarity_top_k=5)\n",
    "retrievals = base_retriever.retrieve(query)\n",
    "for n in retrievals:\n",
    "    #if (not n.text.__contains__(\"http\")):\n",
    "        display_source_node(n, source_length=1500)\n",
    "\n",
    "\n"
   ]
  },
  {
   "cell_type": "code",
   "execution_count": 145,
   "metadata": {},
   "outputs": [
    {
     "name": "stdout",
     "output_type": "stream",
     "text": [
      "Parental involvement has been consistently linked to a child's increased academic performance. Studies have shown that when parents are actively engaged in their children's education by participating in school activities, volunteering, supporting learning at home, and maintaining positive attitudes towards education, students tend to exhibit higher academic achievement, school engagement, motivation, improved reading skills, language comprehension, and expressive language skills. Additionally, parental involvement has been associated with positive social and emotional outcomes for students, such as higher self-esteem, enjoyment of school, and decreased instances of delinquency. This involvement not only benefits the students directly but also equips teachers with a better understanding of their students' personal situations and challenges, enabling them to provide more effective support in the classroom.\n"
     ]
    }
   ],
   "source": [
    "query_engine = RetrieverQueryEngine.from_args(base_retriever, streaming=True) \n",
    "chat_engine = CondenseQuestionChatEngine.from_defaults(query_engine=query_engine)\n",
    "response = chat_engine.chat(query)\n",
    "print(response)\n",
    "# for text in response.response_gen:\n",
    "#     response.print_response_stream()"
   ]
  },
  {
   "cell_type": "code",
   "execution_count": 24,
   "metadata": {},
   "outputs": [],
   "source": [
    "node_parser = SentenceWindowNodeParser.from_defaults(\n",
    "    window_size=3,\n",
    "    window_metadata_key=\"window\",\n",
    "    original_text_metadata_key=\"original_text\",\n",
    ")\n",
    "text_splitter = SentenceSplitter()\n",
    "embed_model = OpenAIEmbedding()\n",
    "\n",
    "Settings.embed_model = embed_model\n",
    "Settings.text_splitter = text_splitter\n",
    "\n",
    "nodes = node_parser.get_nodes_from_documents(documents)\n",
    "base_nodes = text_splitter.get_nodes_from_documents(documents)\n",
    "\n",
    "sentence_index = VectorStoreIndex(nodes)\n",
    "base_index = VectorStoreIndex(base_nodes)\n"
   ]
  },
  {
   "cell_type": "code",
   "execution_count": 8,
   "metadata": {},
   "outputs": [
    {
     "ename": "NameError",
     "evalue": "name 'sentence_index' is not defined",
     "output_type": "error",
     "traceback": [
      "\u001b[0;31m---------------------------------------------------------------------------\u001b[0m",
      "\u001b[0;31mNameError\u001b[0m                                 Traceback (most recent call last)",
      "Cell \u001b[0;32mIn[8], line 1\u001b[0m\n\u001b[0;32m----> 1\u001b[0m query_engine \u001b[38;5;241m=\u001b[39m \u001b[43msentence_index\u001b[49m\u001b[38;5;241m.\u001b[39mas_query_engine(\n\u001b[1;32m      2\u001b[0m     similarity_top_k\u001b[38;5;241m=\u001b[39m\u001b[38;5;241m2\u001b[39m,\n\u001b[1;32m      3\u001b[0m     node_postprocessors\u001b[38;5;241m=\u001b[39m[\n\u001b[1;32m      4\u001b[0m         MetadataReplacementPostProcessor(target_metadata_key\u001b[38;5;241m=\u001b[39m\u001b[38;5;124m\"\u001b[39m\u001b[38;5;124mwindow\u001b[39m\u001b[38;5;124m\"\u001b[39m)\n\u001b[1;32m      5\u001b[0m     ],\n\u001b[1;32m      6\u001b[0m     streaming\u001b[38;5;241m=\u001b[39m \u001b[38;5;28;01mTrue\u001b[39;00m\n\u001b[1;32m      7\u001b[0m )\n\u001b[1;32m      8\u001b[0m window_response \u001b[38;5;241m=\u001b[39m query_engine\u001b[38;5;241m.\u001b[39mquery(query)\n\u001b[1;32m     10\u001b[0m \u001b[38;5;28;01mfor\u001b[39;00m window \u001b[38;5;129;01min\u001b[39;00m window_response\u001b[38;5;241m.\u001b[39msource_nodes:\n",
      "\u001b[0;31mNameError\u001b[0m: name 'sentence_index' is not defined"
     ]
    }
   ],
   "source": [
    "query_engine = sentence_index.as_query_engine(\n",
    "    similarity_top_k=2,\n",
    "    node_postprocessors=[\n",
    "        MetadataReplacementPostProcessor(target_metadata_key=\"window\")\n",
    "    ],\n",
    ")\n",
    "window_response = query_engine.query(query)\n",
    "\n",
    "for window in window_response.source_nodes:\n",
    "    print(\"Window: \")\n",
    "    print(window.node.metadata[\"window\"])\n",
    "    print(\"Original Sentence: \")\n",
    "    print(window.node.metadata[\"original_text\"])\n",
    "    print()\n",
    "\n",
    "print(window_response)\n"
   ]
  }
 ],
 "metadata": {
  "kernelspec": {
   "display_name": "Python 3",
   "language": "python",
   "name": "python3"
  },
  "language_info": {
   "codemirror_mode": {
    "name": "ipython",
    "version": 3
   },
   "file_extension": ".py",
   "mimetype": "text/x-python",
   "name": "python",
   "nbconvert_exporter": "python",
   "pygments_lexer": "ipython3",
   "version": "3.11.4"
  }
 },
 "nbformat": 4,
 "nbformat_minor": 2
}
